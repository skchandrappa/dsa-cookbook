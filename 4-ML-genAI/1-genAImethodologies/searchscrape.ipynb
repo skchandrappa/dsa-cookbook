{
  "cells": [
    {
      "cell_type": "code",
      "source": [
        "#### Pre Installs\n"
      ],
      "metadata": {
        "id": "QhApqbbXAupk"
      },
      "execution_count": null,
      "outputs": []
    },
    {
      "cell_type": "code",
      "source": [
        "class getApiKeys:\n",
        "  def __init__(self):\n",
        "    pass"
      ],
      "metadata": {
        "id": "OKQztJvr9_6h"
      },
      "execution_count": 2,
      "outputs": []
    },
    {
      "cell_type": "code",
      "source": [
        "class serchForLinks:\n",
        "  def __init__(self):\n",
        "    pass"
      ],
      "metadata": {
        "id": "B9I34FupATv7"
      },
      "execution_count": null,
      "outputs": []
    },
    {
      "cell_type": "code",
      "source": [
        "class webCrawler:\n",
        "  def __init__(self):\n",
        "      pass"
      ],
      "metadata": {
        "id": "nRr7KRn8AeY7"
      },
      "execution_count": null,
      "outputs": []
    },
    {
      "cell_type": "code",
      "source": [
        "class callLLM:\n",
        "  def __init__(self):\n",
        "    pass"
      ],
      "metadata": {
        "id": "PKUO9wpKAkgK"
      },
      "execution_count": null,
      "outputs": []
    }
  ],
  "metadata": {
    "colab": {
      "provenance": [],
      "toc_visible": true
    },
    "kernelspec": {
      "display_name": "Python 3",
      "name": "python3"
    }
  },
  "nbformat": 4,
  "nbformat_minor": 0
}