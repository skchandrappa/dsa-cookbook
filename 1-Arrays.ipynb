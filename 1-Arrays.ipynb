https://colab.research.google.com/drive/108nwZXicchx4IdxzpqOo9xN0uQCNek1g#scrollTo=HoBq29kU6rbf
