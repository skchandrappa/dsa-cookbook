{
  "cells": [
    {
      "cell_type": "markdown",
      "metadata": {
        "id": "ao0SzukUF075"
      },
      "source": [
        "https://github.com/skchandrappa/dsa-cookbook.git\n",
        "\n"
      ]
    },
    {
      "cell_type": "markdown",
      "source": [
        "1- What is a Graph </br>\n",
        "     Difference between graph and tree ? circular path </br>\n",
        "2- Graph terminology </br>\n",
        "3- Types of Graph. </br>\n",
        "4- Graph Representaion. </br>\n",
        "5- Create > Add Node > Add Edge > Remove Node > remove Edge. </br>\n",
        "\n"
      ],
      "metadata": {
        "id": "q83Z2-rqV2Im"
      }
    },
    {
      "cell_type": "code",
      "source": [
        "\"\"\"\n",
        "### Create a class of Graph with attributes graph Dict and methods : add vertex , add edge, traverse and display, remove.\n",
        "\n",
        "{\n",
        "  \"a\": [\"b\", \"c\"],\n",
        "  \"b\": [\"a\", \"d\"],\n",
        "  \"c\": [\"a\", \"d\"],\n",
        "  \"d\": [\"e\"],\n",
        "  \"e\": [\"d\"]\n",
        "}\n",
        "\n",
        "\"\"\"\n",
        "\n",
        "class Graph:\n",
        "  def __init__(self):\n",
        "    self.graph = {}\n",
        "\n",
        "  ### If pressent in the list do not add else add.\n",
        "  def add_vertex(self, vertex):\n",
        "    if vertex not in self.graph.keys():\n",
        "      self.graph[vertex] = []\n",
        "      return True\n",
        "    return False\n",
        "\n",
        "  def print_graph(self):\n",
        "    for vertex in self.graph:\n",
        "      print(vertex,\"\",self.graph[vertex])\n",
        "\n",
        "  def add_edge(self, v1, v2):\n",
        "    if v1 in self.graph.keys() and v2 in self.graph.keys():\n",
        "      self.graph[v1].append(v2)\n",
        "      self.graph[v2].append(v1)\n",
        "      return True\n",
        "    return False\n",
        "\n",
        "  def remove_edge(self, v1, v2):\n",
        "    if v1 in self.graph.keys() and v2 in self.graph.keys():\n",
        "      try:\n",
        "        self.graph[v1].remove(v2)\n",
        "        self.graph[v2].remove(v1)\n",
        "      except ValueError:\n",
        "        pass\n",
        "        return True\n",
        "    return False\n",
        "\n",
        "\n",
        "custom_graph = Graph()\n",
        "custom_graph.add_vertex(\"a\")\n",
        "custom_graph.add_vertex(\"b\")\n",
        "custom_graph.print_graph()\n",
        "custom_graph.add_edge(\"a\", \"b\")\n",
        "custom_graph.print_graph()\n",
        "\n",
        "\n",
        "\n",
        "\n"
      ],
      "metadata": {
        "id": "RUoNvLyJXLGV",
        "outputId": "4e21e1e6-f7f1-4f08-8bd7-c4bff9a91b71",
        "colab": {
          "base_uri": "https://localhost:8080/"
        }
      },
      "execution_count": 3,
      "outputs": [
        {
          "output_type": "stream",
          "name": "stdout",
          "text": [
            "a  []\n",
            "b  []\n",
            "a  ['b']\n",
            "b  ['a']\n"
          ]
        }
      ]
    }
  ],
  "metadata": {
    "colab": {
      "provenance": [],
      "toc_visible": true
    },
    "kernelspec": {
      "display_name": "Python 3",
      "name": "python3"
    }
  },
  "nbformat": 4,
  "nbformat_minor": 0
}