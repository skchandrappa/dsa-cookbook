{
  "cells": [
    {
      "cell_type": "markdown",
      "metadata": {
        "id": "ao0SzukUF075"
      },
      "source": [
        "https://github.com/skchandrappa/dsa-cookbook.git\n",
        "\n"
      ]
    },
    {
      "cell_type": "markdown",
      "source": [
        "# Graph Implementation"
      ],
      "metadata": {
        "id": "GaLBYYRlJ9gX"
      }
    },
    {
      "cell_type": "code",
      "source": [
        "!pip install genson"
      ],
      "metadata": {
        "colab": {
          "base_uri": "https://localhost:8080/"
        },
        "id": "0levYKegeQ9h",
        "outputId": "20fc13a7-309f-4997-b5a5-b1c11b9c4741"
      },
      "execution_count": 1,
      "outputs": [
        {
          "output_type": "stream",
          "name": "stdout",
          "text": [
            "Collecting genson\n",
            "  Downloading genson-1.3.0-py3-none-any.whl.metadata (28 kB)\n",
            "Downloading genson-1.3.0-py3-none-any.whl (21 kB)\n",
            "Installing collected packages: genson\n",
            "Successfully installed genson-1.3.0\n"
          ]
        }
      ]
    },
    {
      "cell_type": "code",
      "source": [
        "class edge:\n",
        "  def __init__(self,start,weight,end):\n",
        "    self.start=start\n",
        "    self.weight=weight\n",
        "    self.end=end\n",
        "\n",
        "class node:\n",
        "  def __init__(self,name,dtype):\n",
        "    self.name=name\n",
        "    self.dtype=dtype\n",
        "    self.neighors=[]\n",
        "    self.visited=False\n",
        "    self.predecessor=None\n",
        "    self.distance=0\n",
        "\n",
        "  def add_edge(self,weight,end):\n",
        "    self.neighors.append(edge(self,weight,end))\n",
        "\n",
        "  def __str__(self):\n",
        "    return self.name\n",
        "\n",
        "  def printGraph(self):\n",
        "    visited = []\n",
        "    queue = [self]\n",
        "\n",
        "    print(self.name)\n",
        "\n",
        "    while queue:\n",
        "      vertex = queue.pop(0)\n",
        "      print(vertex.name,\":\",vertex.dtype)\n",
        "      if vertex.name not in visited:\n",
        "    #     print(vertex.name)\n",
        "        visited.append(vertex.name)\n",
        "        for edge in vertex.neighors:\n",
        "          queue.append(edge.end)"
      ],
      "metadata": {
        "id": "BOIzDzRqJ6yf"
      },
      "execution_count": null,
      "outputs": []
    },
    {
      "cell_type": "markdown",
      "source": [
        "# Schema Graph"
      ],
      "metadata": {
        "id": "DB05cNAaJEAM"
      }
    },
    {
      "cell_type": "code",
      "source": [
        "import json\n",
        "import genson\n",
        "import networkx as nx\n",
        "import matplotlib.pyplot as plt\n",
        "\n",
        "class schemaGraph:\n",
        "  def __init__(self,data):\n",
        "    self.data=data\n",
        "\n",
        "\n",
        "  def convert_schema(data):\n",
        "\n",
        "      # Create a schema builder.\n",
        "      # Add data to the schema builder.\n",
        "      # Generate the schema.\n",
        "\n",
        "      schema_builder = genson.SchemaBuilder(data)\n",
        "      schema_builder.add_object(data )\n",
        "      return schema_builder.to_schema()\n",
        "\n",
        "  def loadSchematoGraph(self,startNode,properties):\n",
        "\n",
        "    def loadrSchematoGraph(startNode,properties):\n",
        "      for key,value in properties.items():\n",
        "        if value[\"type\"] != \"object\":\n",
        "            new_node = node(key,value['type'])\n",
        "            startNode.add_edge(0,new_node)\n",
        "        else:\n",
        "            new_node = node(key,value['type'])\n",
        "            startNode.add_edge(0,new_node)\n",
        "            loadrSchematoGraph(new_node,value[\"properties\"])\n",
        "\n",
        "    loadrSchematoGraph(startNode,properties)\n",
        "\n",
        "\n",
        "data = {\n",
        "  \"name\": \"John Doe\",\n",
        "  \"age\": 30,\n",
        "  \"weight\":26.3456,\n",
        "  \"is_student\": True,\n",
        "  \"hobbies\": [\"reading\", \"coding\", \"traveling\"],  ### create a line with add Button and repeat if not Json else drop down list.\n",
        "  \"address\": {\n",
        "    \"street\": \"123 Main St\",\n",
        "    \"city\": \"Anytown\",\n",
        "    \"state\": \"CA\",\n",
        "    \"zip\": 12345\n",
        "  },\n",
        "  \"favorite_color\": '',\n",
        "  \"last_updated\": \"2023-12-31T23:59:59Z\"\n",
        "}\n",
        "\n",
        "schema = schemaGraph(data)\n",
        "schema1 = schemaGraph.convert_schema(data)\n",
        "props = schema1['properties']\n",
        "startNode = node(\"root\",\"schema\")\n",
        "schema.loadSchematoGraph(startNode,props)\n",
        "startNode.printGraph()\n"
      ],
      "metadata": {
        "id": "2B2_A0ggV03z",
        "colab": {
          "base_uri": "https://localhost:8080/"
        },
        "outputId": "5fa72796-de18-4767-eab4-be9604974d29"
      },
      "execution_count": null,
      "outputs": [
        {
          "output_type": "stream",
          "name": "stdout",
          "text": [
            "root\n",
            "root : schema\n",
            "name : string\n",
            "age : integer\n",
            "weight : number\n",
            "is_student : boolean\n",
            "hobbies : array\n",
            "address : object\n",
            "favorite_color : string\n",
            "last_updated : string\n",
            "street : string\n",
            "city : string\n",
            "state : string\n",
            "zip : integer\n"
          ]
        }
      ]
    },
    {
      "cell_type": "markdown",
      "source": [
        "# Structure Graph\n"
      ],
      "metadata": {
        "id": "VbC8A7S-JLbF"
      }
    },
    {
      "cell_type": "code",
      "source": [
        "import requests\n",
        "import networkx as nx\n",
        "import json\n",
        "\n",
        "def create_github_directory_graph(repo_owner, repo_name, token):\n",
        "    \"\"\"\n",
        "    Creates a NetworkX graph representing the directory structure of a GitHub repository.\n",
        "\n",
        "    Args:\n",
        "        repo_owner: The owner of the GitHub repository.\n",
        "        repo_name: The name of the GitHub repository.\n",
        "        token: A personal access token for GitHub API authentication.\n",
        "\n",
        "    Returns:\n",
        "        A NetworkX DiGraph object representing the directory structure.\n",
        "    \"\"\"\n",
        "\n",
        "    G = nx.DiGraph()\n",
        "    url = f\"https://api.github.com/repos/{repo_owner}/{repo_name}/contents/\"\n",
        "    headers = {\"Authorization\": f\"token {token}\"}\n",
        "\n",
        "    def fetch_contents(url):\n",
        "        response = requests.get(url, headers=headers)\n",
        "        if response.status_code == 200:\n",
        "            contents = json.loads(response.text)\n",
        "            for item in contents:\n",
        "                if item[\"type\"] == \"dir\":\n",
        "                    G.add_node(item[\"path\"])\n",
        "                    if item[\"path\"] != \"\":\n",
        "                        parent_dir = os.path.dirname(item[\"path\"])\n",
        "                        G.add_edge(parent_dir, item[\"path\"])\n",
        "                    fetch_contents(item[\"url\"])\n",
        "\n",
        "    fetch_contents(url)\n",
        "    return G\n",
        "\n",
        "# Example usage:\n",
        "repo_owner = \"your_username\"\n",
        "repo_name = \"your_repository_name\"\n",
        "token = \"your_personal_access_token\"\n",
        "\n",
        "graph = create_github_directory_graph(repo_owner, repo_name, token)\n",
        "\n",
        "# Visualize the graph (optional)\n",
        "import matplotlib.pyplot as plt\n",
        "nx.draw_networkx(graph, with_labels=True, node_size=500, node_color='skyblue', font_size=10)\n",
        "plt.show()"
      ],
      "metadata": {
        "id": "kzbvjJ2nJNo8"
      },
      "execution_count": null,
      "outputs": []
    },
    {
      "cell_type": "markdown",
      "source": [
        "# Command Graph."
      ],
      "metadata": {
        "id": "LQtSsAANJSLV"
      }
    },
    {
      "cell_type": "code",
      "source": [],
      "metadata": {
        "id": "axGPYMJRJUT8"
      },
      "execution_count": null,
      "outputs": []
    },
    {
      "cell_type": "markdown",
      "source": [
        "# LLM Pings and resultset."
      ],
      "metadata": {
        "id": "s3CjuuujJcnA"
      }
    },
    {
      "cell_type": "code",
      "source": [],
      "metadata": {
        "id": "olO5ORuIJeQX"
      },
      "execution_count": null,
      "outputs": []
    },
    {
      "cell_type": "markdown",
      "source": [
        "# UI Design Principle and standards Enhancement."
      ],
      "metadata": {
        "id": "wXpwibh4JOQt"
      }
    },
    {
      "cell_type": "code",
      "source": [],
      "metadata": {
        "id": "tBlekAf4JRs1"
      },
      "execution_count": null,
      "outputs": []
    },
    {
      "cell_type": "markdown",
      "source": [
        "# Github Upload"
      ],
      "metadata": {
        "id": "xF5n_UUjJmql"
      }
    },
    {
      "cell_type": "code",
      "source": [],
      "metadata": {
        "id": "KOJ2KtkZJoPT"
      },
      "execution_count": null,
      "outputs": []
    }
  ],
  "metadata": {
    "colab": {
      "provenance": [],
      "toc_visible": true
    },
    "kernelspec": {
      "display_name": "Python 3",
      "name": "python3"
    }
  },
  "nbformat": 4,
  "nbformat_minor": 0
}