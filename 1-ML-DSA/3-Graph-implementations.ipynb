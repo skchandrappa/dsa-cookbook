{
  "cells": [
    {
      "cell_type": "markdown",
      "metadata": {
        "id": "ao0SzukUF075"
      },
      "source": [
        "https://github.com/skchandrappa/dsa-cookbook.git\n",
        "\n"
      ]
    },
    {
      "cell_type": "markdown",
      "source": [
        "# Graph Implementation"
      ],
      "metadata": {
        "id": "GaLBYYRlJ9gX"
      }
    },
    {
      "cell_type": "code",
      "source": [
        "class edge:\n",
        "  def __init__(self,start,weight,end):\n",
        "    self.start=start\n",
        "    self.weight=weight\n",
        "    self.end=end\n",
        "\n",
        "class node:\n",
        "  def __init__(self,name,dtype):\n",
        "    self.name=name\n",
        "    self.dtype=None\n",
        "    self.neighors=[]\n",
        "    self.visited=False\n",
        "    self.predecessor=None\n",
        "    self.distance=0\n",
        "\n",
        "  def add_edge(self,weight,end):\n",
        "    self.neighors.append(edge(self,weight,end))\n",
        "\n",
        "  def __str__(self):\n",
        "    return self.name\n"
      ],
      "metadata": {
        "id": "BOIzDzRqJ6yf"
      },
      "execution_count": 1,
      "outputs": []
    },
    {
      "cell_type": "code",
      "source": [
        "!pip install genson"
      ],
      "metadata": {
        "id": "0levYKegeQ9h",
        "outputId": "1569f188-e434-423a-a4d8-8a51055a1e96",
        "colab": {
          "base_uri": "https://localhost:8080/"
        }
      },
      "execution_count": 3,
      "outputs": [
        {
          "output_type": "stream",
          "name": "stdout",
          "text": [
            "Collecting genson\n",
            "  Downloading genson-1.3.0-py3-none-any.whl.metadata (28 kB)\n",
            "Downloading genson-1.3.0-py3-none-any.whl (21 kB)\n",
            "Installing collected packages: genson\n",
            "Successfully installed genson-1.3.0\n"
          ]
        }
      ]
    },
    {
      "cell_type": "markdown",
      "source": [
        "# Schema Graph"
      ],
      "metadata": {
        "id": "DB05cNAaJEAM"
      }
    },
    {
      "cell_type": "code",
      "source": [
        "import json\n",
        "import genson\n",
        "import networkx as nx\n",
        "import matplotlib.pyplot as plt\n",
        "\n",
        "class schemaLoad:\n",
        "  def __init__(self,data):\n",
        "    self.data=data\n",
        "\n",
        "\n",
        "  def convert_schema(data):\n",
        "      # Create a schema builder.\n",
        "      # Add data to the schema builder.\n",
        "      # Generate the schema.\n",
        "\n",
        "      schema_builder = genson.SchemaBuilder(data)\n",
        "      schema_builder.add_object(data )\n",
        "      return schema_builder.to_schema()\n",
        "\n",
        "  def loadSchematoGraph(self,starting_vertex,properties):\n",
        "\n",
        "    def loadSchematoGraph(commandGraph,starting_vertex,properties):\n",
        "      for key,value in properties.items():\n",
        "        if value[\"type\"] != \"object\":\n",
        "            print(key,starting_vertex)\n",
        "            commandGraph.addEdge(starting_vertex,key)\n",
        "        else:\n",
        "            commandGraph.addEdge(starting_vertex,key)\n",
        "            loadSchematoGraph(value[\"properties\"],commandGraph,key)\n",
        "\n",
        "    commandGraph = node(\"schema\")\n",
        "    loadSchematoGraph(commandGraph,starting_vertex,properties)\n",
        "\n",
        "\n",
        "data = {\n",
        "  \"name\": \"John Doe\",\n",
        "  \"age\": 30,\n",
        "  \"weight\":26.3456,\n",
        "  \"is_student\": True,\n",
        "  \"hobbies\": [\"reading\", \"coding\", \"traveling\"],  ### create a line with add Button and repeat if not Json else drop down list.\n",
        "  \"address\": {\n",
        "    \"street\": \"123 Main St\",\n",
        "    \"city\": \"Anytown\",\n",
        "    \"state\": \"CA\",\n",
        "    \"zip\": 12345\n",
        "  },\n",
        "  \"favorite_color\": '',\n",
        "  \"last_updated\": \"2023-12-31T23:59:59Z\"\n",
        "}\n",
        "\n",
        "schema = schemaLoad.convert_schema(data)\n",
        "print(schema)\n",
        "\n",
        "# schemaJson = convert_schema(data)\n",
        "# print(schemaJson['properties'])\n",
        "\n",
        "## gather all properties and add as vertices.\n",
        "\n",
        "# def getvertices(properties,commandGraph,starting_vertex):\n",
        "#   for key,value in properties.items():\n",
        "#       if value[\"type\"] != \"object\":\n",
        "#           print(key,starting_vertex)\n",
        "#           commandGraph.addEdge(starting_vertex,key)\n",
        "#       else:\n",
        "#           commandGraph.addEdge(starting_vertex,key)\n",
        "#           getvertices(value[\"properties\"],commandGraph,key)\n",
        "\n",
        "\n",
        "# commandGraph=Graph()\n",
        "# starting_vertex = \"schema\"\n",
        "# getvertices(schemaJson['properties'],commandGraph,starting_vertex)\n",
        "# commandGraph.printgraph()\n",
        "# commandGraph.bfs(\"schema\")"
      ],
      "metadata": {
        "id": "2B2_A0ggV03z",
        "colab": {
          "base_uri": "https://localhost:8080/"
        },
        "outputId": "d12724d9-fe40-4023-8065-63f544916942"
      },
      "execution_count": 6,
      "outputs": [
        {
          "output_type": "stream",
          "name": "stdout",
          "text": [
            "{'$schema': {'name': 'John Doe', 'age': 30, 'weight': 26.3456, 'is_student': True, 'hobbies': ['reading', 'coding', 'traveling'], 'address': {'street': '123 Main St', 'city': 'Anytown', 'state': 'CA', 'zip': 12345}, 'favorite_color': '', 'last_updated': '2023-12-31T23:59:59Z'}, 'type': 'object', 'properties': {'name': {'type': 'string'}, 'age': {'type': 'integer'}, 'weight': {'type': 'number'}, 'is_student': {'type': 'boolean'}, 'hobbies': {'type': 'array', 'items': {'type': 'string'}}, 'address': {'type': 'object', 'properties': {'street': {'type': 'string'}, 'city': {'type': 'string'}, 'state': {'type': 'string'}, 'zip': {'type': 'integer'}}, 'required': ['city', 'state', 'street', 'zip']}, 'favorite_color': {'type': 'string'}, 'last_updated': {'type': 'string'}}, 'required': ['address', 'age', 'favorite_color', 'hobbies', 'is_student', 'last_updated', 'name', 'weight']}\n"
          ]
        }
      ]
    },
    {
      "cell_type": "markdown",
      "source": [
        "# Structure Graph\n"
      ],
      "metadata": {
        "id": "VbC8A7S-JLbF"
      }
    },
    {
      "cell_type": "code",
      "source": [],
      "metadata": {
        "id": "kzbvjJ2nJNo8"
      },
      "execution_count": null,
      "outputs": []
    },
    {
      "cell_type": "markdown",
      "source": [
        "# UI Design Principle graph"
      ],
      "metadata": {
        "id": "wXpwibh4JOQt"
      }
    },
    {
      "cell_type": "code",
      "source": [],
      "metadata": {
        "id": "tBlekAf4JRs1"
      },
      "execution_count": null,
      "outputs": []
    },
    {
      "cell_type": "markdown",
      "source": [
        "# Command Graph."
      ],
      "metadata": {
        "id": "LQtSsAANJSLV"
      }
    },
    {
      "cell_type": "code",
      "source": [],
      "metadata": {
        "id": "axGPYMJRJUT8"
      },
      "execution_count": null,
      "outputs": []
    },
    {
      "cell_type": "markdown",
      "source": [
        "# LLM Pings and resultset."
      ],
      "metadata": {
        "id": "s3CjuuujJcnA"
      }
    },
    {
      "cell_type": "code",
      "source": [],
      "metadata": {
        "id": "olO5ORuIJeQX"
      },
      "execution_count": null,
      "outputs": []
    },
    {
      "cell_type": "markdown",
      "source": [
        "# Github Upload"
      ],
      "metadata": {
        "id": "xF5n_UUjJmql"
      }
    },
    {
      "cell_type": "code",
      "source": [],
      "metadata": {
        "id": "KOJ2KtkZJoPT"
      },
      "execution_count": null,
      "outputs": []
    }
  ],
  "metadata": {
    "colab": {
      "provenance": [],
      "toc_visible": true
    },
    "kernelspec": {
      "display_name": "Python 3",
      "name": "python3"
    }
  },
  "nbformat": 4,
  "nbformat_minor": 0
}