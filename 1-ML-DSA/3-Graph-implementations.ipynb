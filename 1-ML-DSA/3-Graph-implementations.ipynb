{
  "cells": [
    {
      "cell_type": "markdown",
      "metadata": {
        "id": "ao0SzukUF075"
      },
      "source": [
        "https://github.com/skchandrappa/dsa-cookbook.git\n",
        "\n"
      ]
    },
    {
      "cell_type": "markdown",
      "source": [
        "# Graph Implementation"
      ],
      "metadata": {
        "id": "GaLBYYRlJ9gX"
      }
    },
    {
      "cell_type": "code",
      "source": [
        "class edge:\n",
        "  def __init__(self,start,weight,end):\n",
        "    self.start=start\n",
        "    self.weight=weight\n",
        "    self.end=end\n",
        "\n",
        "class node:\n",
        "  def __init__(self,name,dtype):\n",
        "    self.name=name\n",
        "    self.dtype=dtype\n",
        "    self.neighors=[]\n",
        "    self.visited=False\n",
        "    self.predecessor=None\n",
        "    self.distance=0\n",
        "\n",
        "  def add_edge(self,weight,end):\n",
        "    self.neighors.append(edge(self,weight,end))\n",
        "\n",
        "  def __str__(self):\n",
        "    return self.name\n",
        "\n",
        "  def printGraph():\n",
        "    pass"
      ],
      "metadata": {
        "id": "BOIzDzRqJ6yf"
      },
      "execution_count": 20,
      "outputs": []
    },
    {
      "cell_type": "code",
      "source": [
        "!pip install genson"
      ],
      "metadata": {
        "colab": {
          "base_uri": "https://localhost:8080/"
        },
        "id": "0levYKegeQ9h",
        "outputId": "53b4a05a-8051-4b28-8db4-1f54200ff4ca"
      },
      "execution_count": 2,
      "outputs": [
        {
          "output_type": "stream",
          "name": "stdout",
          "text": [
            "Collecting genson\n",
            "  Downloading genson-1.3.0-py3-none-any.whl.metadata (28 kB)\n",
            "Downloading genson-1.3.0-py3-none-any.whl (21 kB)\n",
            "Installing collected packages: genson\n",
            "Successfully installed genson-1.3.0\n"
          ]
        }
      ]
    },
    {
      "cell_type": "markdown",
      "source": [
        "# Schema Graph"
      ],
      "metadata": {
        "id": "DB05cNAaJEAM"
      }
    },
    {
      "cell_type": "code",
      "source": [
        "import json\n",
        "import genson\n",
        "import networkx as nx\n",
        "import matplotlib.pyplot as plt\n",
        "\n",
        "class schemaGraph:\n",
        "  def __init__(self,data):\n",
        "    self.data=data\n",
        "\n",
        "\n",
        "  def convert_schema(data):\n",
        "\n",
        "      # Create a schema builder.\n",
        "      # Add data to the schema builder.\n",
        "      # Generate the schema.\n",
        "\n",
        "      schema_builder = genson.SchemaBuilder(data)\n",
        "      schema_builder.add_object(data )\n",
        "      return schema_builder.to_schema()\n",
        "\n",
        "  def loadSchematoGraph(self,properties):\n",
        "\n",
        "    def loadrSchematoGraph(startNode,properties):\n",
        "      for key,value in properties.items():\n",
        "        if value[\"type\"] != \"object\":\n",
        "            new_node = node(key,value['type'])\n",
        "            startNode.add_edge(0,new_node)\n",
        "        else:\n",
        "            new_node = node(key,value['type'])\n",
        "            startNode.add_edge(0,new_node)\n",
        "            loadrSchematoGraph(new_node,value[\"properties\"])\n",
        "\n",
        "    startNode = node(\"root\",\"schema\")\n",
        "    loadrSchematoGraph(startNode,properties)\n",
        "\n",
        "\n",
        "data = {\n",
        "  \"name\": \"John Doe\",\n",
        "  \"age\": 30,\n",
        "  \"weight\":26.3456,\n",
        "  \"is_student\": True,\n",
        "  \"hobbies\": [\"reading\", \"coding\", \"traveling\"],  ### create a line with add Button and repeat if not Json else drop down list.\n",
        "  \"address\": {\n",
        "    \"street\": \"123 Main St\",\n",
        "    \"city\": \"Anytown\",\n",
        "    \"state\": \"CA\",\n",
        "    \"zip\": 12345\n",
        "  },\n",
        "  \"favorite_color\": '',\n",
        "  \"last_updated\": \"2023-12-31T23:59:59Z\"\n",
        "}\n",
        "\n",
        "schema = schemaGraph(data)\n",
        "schema1 = schemaGraph.convert_schema(data)\n",
        "props = schema1['properties']\n",
        "schema.loadSchematoGraph(props)\n"
      ],
      "metadata": {
        "id": "2B2_A0ggV03z",
        "colab": {
          "base_uri": "https://localhost:8080/"
        },
        "outputId": "f4893658-41f1-4501-bcac-f0e6d72aadd5"
      },
      "execution_count": 25,
      "outputs": [
        {
          "output_type": "stream",
          "name": "stdout",
          "text": [
            "name string\n",
            "age integer\n",
            "weight number\n",
            "is_student boolean\n",
            "hobbies array\n",
            "street string\n",
            "city string\n",
            "state string\n",
            "zip integer\n",
            "favorite_color string\n",
            "last_updated string\n"
          ]
        }
      ]
    },
    {
      "cell_type": "markdown",
      "source": [
        "# Structure Graph\n"
      ],
      "metadata": {
        "id": "VbC8A7S-JLbF"
      }
    },
    {
      "cell_type": "code",
      "source": [],
      "metadata": {
        "id": "kzbvjJ2nJNo8"
      },
      "execution_count": null,
      "outputs": []
    },
    {
      "cell_type": "markdown",
      "source": [
        "# UI Design Principle graph"
      ],
      "metadata": {
        "id": "wXpwibh4JOQt"
      }
    },
    {
      "cell_type": "code",
      "source": [],
      "metadata": {
        "id": "tBlekAf4JRs1"
      },
      "execution_count": null,
      "outputs": []
    },
    {
      "cell_type": "markdown",
      "source": [
        "# Command Graph."
      ],
      "metadata": {
        "id": "LQtSsAANJSLV"
      }
    },
    {
      "cell_type": "code",
      "source": [],
      "metadata": {
        "id": "axGPYMJRJUT8"
      },
      "execution_count": null,
      "outputs": []
    },
    {
      "cell_type": "markdown",
      "source": [
        "# LLM Pings and resultset."
      ],
      "metadata": {
        "id": "s3CjuuujJcnA"
      }
    },
    {
      "cell_type": "code",
      "source": [],
      "metadata": {
        "id": "olO5ORuIJeQX"
      },
      "execution_count": null,
      "outputs": []
    },
    {
      "cell_type": "markdown",
      "source": [
        "# Github Upload"
      ],
      "metadata": {
        "id": "xF5n_UUjJmql"
      }
    },
    {
      "cell_type": "code",
      "source": [],
      "metadata": {
        "id": "KOJ2KtkZJoPT"
      },
      "execution_count": null,
      "outputs": []
    }
  ],
  "metadata": {
    "colab": {
      "provenance": [],
      "toc_visible": true
    },
    "kernelspec": {
      "display_name": "Python 3",
      "name": "python3"
    }
  },
  "nbformat": 4,
  "nbformat_minor": 0
}