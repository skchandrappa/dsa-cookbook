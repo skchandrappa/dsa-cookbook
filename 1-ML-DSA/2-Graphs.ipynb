{
  "cells": [
    {
      "cell_type": "markdown",
      "metadata": {
        "id": "ao0SzukUF075"
      },
      "source": [
        "https://github.com/skchandrappa/dsa-cookbook.git\n",
        "\n"
      ]
    },
    {
      "cell_type": "markdown",
      "source": [
        "# 1- Create a Graph with Adjacency matrix and traverse BFS / DFS."
      ],
      "metadata": {
        "id": "lYqpwXFMGHDO"
      }
    },
    {
      "cell_type": "code",
      "source": [
        "\"\"\"\n",
        "### Create a class of Graph with attributes graph Dict and methods : add vertex , add edge, traverse and display, remove.\n",
        "\n",
        "{\n",
        "  \"a\": [\"b\", \"c\"],\n",
        "  \"b\": [\"a\", \"d\"],\n",
        "  \"c\": [\"a\", \"d\"],\n",
        "  \"d\": [\"e\"],\n",
        "  \"e\": [\"d\"]\n",
        "}\n",
        "\n",
        "Notes :\n",
        "  BFS Vs DFS : When target is close to startting point - BFS Buried deep - DFS\n",
        "\n",
        "\"\"\"\n",
        "\n",
        "class Graph:\n",
        "  def __init__(self):\n",
        "    self.graph = {}\n",
        "\n",
        "  ### If pressent in the list do not add else add.\n",
        "  def add_vertex(self, vertex):\n",
        "    if vertex not in self.graph.keys():\n",
        "      self.graph[vertex] = []\n",
        "      return True\n",
        "    return False\n",
        "\n",
        "  def print_graph(self):\n",
        "    for vertex in self.graph:\n",
        "      print(vertex,\"\",self.graph[vertex])\n",
        "\n",
        "  def add_edge(self, v1, v2):\n",
        "    if v1 in self.graph.keys() and v2 in self.graph.keys():\n",
        "      self.graph[v1].append(v2)\n",
        "      self.graph[v2].append(v1)\n",
        "      return True\n",
        "    return False\n",
        "\n",
        "  def remove_edge(self, v1, v2):\n",
        "    if v1 in self.graph.keys() and v2 in self.graph.keys():\n",
        "      try:\n",
        "        self.graph[v1].remove(v2)\n",
        "        self.graph[v2].remove(v1)\n",
        "      except ValueError:\n",
        "        pass\n",
        "        return True\n",
        "    return False\n",
        "\n",
        "  ### BFS search\n",
        "  def bfs(self, starting_vertex):\n",
        "    visited = []\n",
        "    queue = [starting_vertex]\n",
        "\n",
        "    while queue:\n",
        "      vertex = queue.pop(0)\n",
        "      if vertex not in visited:\n",
        "        visited.append(vertex)\n",
        "        queue.extend(self.graph[vertex])\n",
        "\n",
        "    return visited\n",
        "\n",
        "  ### DFS search\n",
        "  def dfs(self, starting_vertex):\n",
        "    visited = []\n",
        "    stack = [starting_vertex]\n",
        "\n",
        "    while stack:\n",
        "      vertex = stack.pop()\n",
        "      if vertex not in visited:\n",
        "        visited.append(vertex)\n",
        "        stack.extend(self.graph[vertex])\n",
        "    return visited\n",
        "\n",
        "custom_graph = Graph()\n",
        "# custom_graph.add_vertex(\"a\")\n",
        "# custom_graph.add_vertex(\"b\")\n",
        "# custom_graph.print_graph()\n",
        "# custom_graph.add_edge(\"a\", \"b\")\n",
        "# custom_graph.print_graph()\n",
        "# print(custom_graph.bfs(\"b\"))\n",
        "\n",
        "input_path = [(\"sfo\",\"las\"),(\"las\",\"lvs\"),(\"lvs\",\"slc\"),(\"slc\",\"las\"),(\"las\",\"dfw\"),(\"dfw\",\"jfk\")]\n",
        "\n",
        "for i in range(len(input_path)):\n",
        "  custom_graph.add_vertex(input_path[i][0])\n",
        "  custom_graph.add_vertex(input_path[i][1])\n",
        "\n",
        "for i in range(len(input_path)):\n",
        "  custom_graph.add_edge(input_path[i][0], input_path[i][1])\n",
        "\n",
        "custom_graph.print_graph()\n",
        "print(custom_graph.bfs(\"sfo\"))\n"
      ],
      "metadata": {
        "id": "RUoNvLyJXLGV",
        "outputId": "51420753-aba8-46e7-8ef5-b390e1f2b131",
        "colab": {
          "base_uri": "https://localhost:8080/"
        }
      },
      "execution_count": 1,
      "outputs": [
        {
          "output_type": "stream",
          "name": "stdout",
          "text": [
            "sfo  ['las']\n",
            "las  ['sfo', 'lvs', 'slc', 'dfw']\n",
            "lvs  ['las', 'slc']\n",
            "slc  ['lvs', 'las']\n",
            "dfw  ['las', 'jfk']\n",
            "jfk  ['dfw']\n",
            "['sfo', 'las', 'lvs', 'slc', 'dfw', 'jfk']\n"
          ]
        }
      ]
    },
    {
      "cell_type": "markdown",
      "source": [
        "# 2-Topological Sort : LLM Command Graph from a json - Basic."
      ],
      "metadata": {
        "id": "6KDmONrxGLd4"
      }
    },
    {
      "cell_type": "code",
      "source": [
        "\n",
        "from collections import defaultdict\n",
        "\n",
        "class Graph:\n",
        "    def __init__(self, numberofVertices):\n",
        "        self.graph = defaultdict(list)\n",
        "\n",
        "    def addEdge(self, vertex, edge):\n",
        "        self.graph[vertex].append(edge)\n",
        "\n",
        "    def printgraph(self):\n",
        "        for vertex in self.graph:\n",
        "            print(vertex, \" -> \", self.graph[vertex])\n",
        "\n",
        "    def topogologicalSortUtil(self, v, visited, stack):\n",
        "        # for child of the vertex, set vetex as parent and chck for child to be in visited and add to stack.\n",
        "        visited.append(v)\n",
        "\n",
        "        for i in self.graph[v]:\n",
        "            if i not in visited:\n",
        "                self.topogologicalSortUtil(i, visited, stack)\n",
        "\n",
        "        stack.insert(0, v)\n",
        "\n",
        "    def topologicalSort(self):\n",
        "        visited = []\n",
        "        stack = []\n",
        "\n",
        "        ## for every vertex in the graph perform recursive check.\n",
        "        for k in list(self.graph):\n",
        "\n",
        "            if k not in visited:\n",
        "                self.topogologicalSortUtil(k, visited, stack)\n",
        "\n",
        "        print(stack)\n",
        "\n",
        "    def dfs(self, starting_vertex):\n",
        "        visited = []\n",
        "        stack = [starting_vertex]\n",
        "\n",
        "        while stack:\n",
        "          vertex = stack.pop()\n",
        "          if vertex not in visited:\n",
        "            visited.append(vertex)\n",
        "            stack.extend(self.graph[vertex])\n",
        "        print(visited)\n",
        "\n",
        "\n",
        "customGraph = Graph(8)\n",
        "customGraph.addEdge(\"A\", \"B\")\n",
        "customGraph.addEdge(\"A\", \"C\")\n",
        "customGraph.addEdge(\"B\", \"D\")\n",
        "customGraph.addEdge(\"B\", \"E\")\n",
        "customGraph.addEdge(\"C\", \"E\")\n",
        "\n",
        "customGraph.printgraph()\n",
        "\n"
      ],
      "metadata": {
        "colab": {
          "base_uri": "https://localhost:8080/"
        },
        "id": "VyJobt2lGQus",
        "outputId": "43398331-b27b-43d1-a3e0-daa9d71b4055"
      },
      "execution_count": 67,
      "outputs": [
        {
          "output_type": "stream",
          "name": "stdout",
          "text": [
            "A  ->  ['B', 'C']\n",
            "B  ->  ['D', 'E']\n",
            "C  ->  ['E']\n"
          ]
        }
      ]
    },
    {
      "cell_type": "code",
      "source": [
        "!pip install genson\n",
        "!pip install networkx\n",
        "!pip install matplotlib"
      ],
      "metadata": {
        "id": "t1nDmwdfz_Si"
      },
      "execution_count": 52,
      "outputs": []
    },
    {
      "cell_type": "code",
      "source": [
        "class Graph:\n",
        "    def __init__(self):\n",
        "        self.graph = defaultdict(list)\n",
        "\n",
        "    def addEdge(self, vertex, edge):\n",
        "        self.graph[vertex].append(edge)\n",
        "\n",
        "    def printgraph(self):\n",
        "        for vertex in self.graph:\n",
        "            print(vertex, \" -> \", self.graph[vertex])\n",
        "\n",
        "    def topogologicalSortUtil(self, v, visited, stack):\n",
        "        # for child of the vertex, set vetex as parent and chck for child to be in visited and add to stack.\n",
        "        visited.append(v)\n",
        "\n",
        "        for i in self.graph[v]:\n",
        "            if i not in visited:\n",
        "                self.topogologicalSortUtil(i, visited, stack)\n",
        "\n",
        "        stack.insert(0, v)\n",
        "\n",
        "    def topologicalSort(self):\n",
        "        visited = []\n",
        "        stack = []\n",
        "\n",
        "        ## for every vertex in the graph perform recursive check.\n",
        "        for k in list(self.graph):\n",
        "\n",
        "            if k not in visited:\n",
        "                self.topogologicalSortUtil(k, visited, stack)\n",
        "\n",
        "        print(stack)\n",
        "\n",
        "    def dfs(self, starting_vertex):\n",
        "        visited = []\n",
        "        stack = [starting_vertex]\n",
        "\n",
        "        while stack:\n",
        "          vertex = stack.pop()\n",
        "          if vertex not in visited:\n",
        "            visited.append(vertex)\n",
        "            stack.extend(self.graph[vertex])\n",
        "\n",
        "        print(visited)\n",
        "\n",
        "      ### BFS search\n",
        "    def bfs(self, starting_vertex):\n",
        "      visited = []\n",
        "      queue = [starting_vertex]\n",
        "\n",
        "      while queue:\n",
        "        vertex = queue.pop(0)\n",
        "        if vertex not in visited:\n",
        "          visited.append(vertex)\n",
        "          queue.extend(self.graph[vertex])\n",
        "\n",
        "      print(visited)"
      ],
      "metadata": {
        "id": "UoQFdz1x_MUs"
      },
      "execution_count": 71,
      "outputs": []
    },
    {
      "cell_type": "code",
      "source": [
        "import json\n",
        "import genson\n",
        "import networkx as nx\n",
        "import matplotlib.pyplot as plt\n",
        "\n",
        "def convert_schema(data):\n",
        "\n",
        "    # Create a schema builder.\n",
        "    schema_builder = genson.SchemaBuilder(data)\n",
        "    # Add data to the schema builder.\n",
        "    schema_builder.add_object(data )\n",
        "    # Generate the schema.\n",
        "\n",
        "    return schema_builder.to_schema()\n",
        "\n",
        "data = {\n",
        "  \"name\": \"John Doe\",\n",
        "  \"age\": 30,\n",
        "  \"weight\":26.3456,\n",
        "  \"is_student\": True,\n",
        "  \"hobbies\": [\"reading\", \"coding\", \"traveling\"],  ### create a line with add Button and repeat if not Json else drop down list.\n",
        "  \"address\": {\n",
        "    \"street\": \"123 Main St\",\n",
        "    \"city\": \"Anytown\",\n",
        "    \"state\": \"CA\",\n",
        "    \"zip\": 12345\n",
        "  },\n",
        "  \"favorite_color\": '',\n",
        "  \"last_updated\": \"2023-12-31T23:59:59Z\"\n",
        "}\n",
        "\n",
        "schemaJson = convert_schema(data)\n",
        "\n",
        "#print(schemaJson['properties'])\n",
        "## gather all properties and add as vertices.\n",
        "\n",
        "def getvertices(properties,commandGraph,starting_vertex):\n",
        "  for key,value in properties.items():\n",
        "      if value[\"type\"] != \"object\":\n",
        "          print(key,starting_vertex)\n",
        "          commandGraph.addEdge(starting_vertex,key)\n",
        "      else:\n",
        "          commandGraph.addEdge(starting_vertex,key)\n",
        "          getvertices(value[\"properties\"],commandGraph,key)\n",
        "\n",
        "\n",
        "commandGraph=Graph()\n",
        "starting_vertex = \"schema\"\n",
        "getvertices(schemaJson['properties'],commandGraph,starting_vertex)\n",
        "commandGraph.printgraph()\n",
        "commandGraph.bfs(\"schema\")\n"
      ],
      "metadata": {
        "colab": {
          "base_uri": "https://localhost:8080/"
        },
        "id": "IMcPMy4bz5s9",
        "outputId": "175b10d1-d548-4957-8375-977e12bb5344"
      },
      "execution_count": 72,
      "outputs": [
        {
          "output_type": "stream",
          "name": "stdout",
          "text": [
            "name schema\n",
            "age schema\n",
            "weight schema\n",
            "is_student schema\n",
            "hobbies schema\n",
            "street address\n",
            "city address\n",
            "state address\n",
            "zip address\n",
            "favorite_color schema\n",
            "last_updated schema\n",
            "schema  ->  ['name', 'age', 'weight', 'is_student', 'hobbies', 'address', 'favorite_color', 'last_updated']\n",
            "address  ->  ['street', 'city', 'state', 'zip']\n",
            "['schema', 'name', 'age', 'weight', 'is_student', 'hobbies', 'address', 'favorite_color', 'last_updated', 'street', 'city', 'state', 'zip']\n"
          ]
        }
      ]
    }
  ],
  "metadata": {
    "colab": {
      "provenance": [],
      "toc_visible": true
    },
    "kernelspec": {
      "display_name": "Python 3",
      "name": "python3"
    }
  },
  "nbformat": 4,
  "nbformat_minor": 0
}