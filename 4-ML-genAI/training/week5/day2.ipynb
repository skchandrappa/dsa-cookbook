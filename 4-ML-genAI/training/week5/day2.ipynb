{
  "cells": [
    {
      "cell_type": "markdown",
      "id": "dfe37963-1af6-44fc-a841-8e462443f5e6",
      "metadata": {
        "id": "dfe37963-1af6-44fc-a841-8e462443f5e6"
      },
      "source": [
        "## Expert Knowledge Worker\n",
        "\n",
        "### A question answering agent that is an expert knowledge worker\n",
        "### To be used by employees of Insurellm, an Insurance Tech company\n",
        "### The agent needs to be accurate and the solution should be low cost.\n",
        "\n",
        "This project will use RAG (Retrieval Augmented Generation) to ensure our question/answering assistant has high accuracy."
      ]
    },
    {
      "cell_type": "code",
      "source": [
        "from google.colab import drive\n",
        "drive.mount('/content/drive')\n"
      ],
      "metadata": {
        "id": "c_M9uVcUJMaD",
        "outputId": "5fa07378-c432-466a-aa4c-c9af0b449d45",
        "colab": {
          "base_uri": "https://localhost:8080/"
        }
      },
      "id": "c_M9uVcUJMaD",
      "execution_count": 4,
      "outputs": [
        {
          "output_type": "stream",
          "name": "stdout",
          "text": [
            "Drive already mounted at /content/drive; to attempt to forcibly remount, call drive.mount(\"/content/drive\", force_remount=True).\n",
            "Current Working Directory: /content\n"
          ]
        }
      ]
    },
    {
      "cell_type": "code",
      "execution_count": 7,
      "id": "ba2779af-84ef-4227-9e9e-6eaf0df87e77",
      "metadata": {
        "id": "ba2779af-84ef-4227-9e9e-6eaf0df87e77",
        "outputId": "352d363b-f213-4005-dcf0-6f8f1d5370ba",
        "colab": {
          "base_uri": "https://localhost:8080/",
          "height": 365
        }
      },
      "outputs": [
        {
          "output_type": "error",
          "ename": "ModuleNotFoundError",
          "evalue": "No module named 'gradio'",
          "traceback": [
            "\u001b[0;31m---------------------------------------------------------------------------\u001b[0m",
            "\u001b[0;31mModuleNotFoundError\u001b[0m                       Traceback (most recent call last)",
            "\u001b[0;32m<ipython-input-7-d0dc70efa06f>\u001b[0m in \u001b[0;36m<cell line: 6>\u001b[0;34m()\u001b[0m\n\u001b[1;32m      4\u001b[0m \u001b[0;32mimport\u001b[0m \u001b[0mglob\u001b[0m\u001b[0;34m\u001b[0m\u001b[0;34m\u001b[0m\u001b[0m\n\u001b[1;32m      5\u001b[0m \u001b[0;31m# from dotenv import load_dotenv\u001b[0m\u001b[0;34m\u001b[0m\u001b[0;34m\u001b[0m\u001b[0m\n\u001b[0;32m----> 6\u001b[0;31m \u001b[0;32mimport\u001b[0m \u001b[0mgradio\u001b[0m \u001b[0;32mas\u001b[0m \u001b[0mgr\u001b[0m\u001b[0;34m\u001b[0m\u001b[0;34m\u001b[0m\u001b[0m\n\u001b[0m",
            "\u001b[0;31mModuleNotFoundError\u001b[0m: No module named 'gradio'",
            "",
            "\u001b[0;31m---------------------------------------------------------------------------\u001b[0;32m\nNOTE: If your import is failing due to a missing package, you can\nmanually install dependencies using either !pip or !apt.\n\nTo view examples of installing some common dependencies, click the\n\"Open Examples\" button below.\n\u001b[0;31m---------------------------------------------------------------------------\u001b[0m\n"
          ],
          "errorDetails": {
            "actions": [
              {
                "action": "open_url",
                "actionText": "Open Examples",
                "url": "/notebooks/snippets/importing_libraries.ipynb"
              }
            ]
          }
        }
      ],
      "source": [
        "# imports\n",
        "\n",
        "import os\n",
        "import glob\n",
        "# from dotenv import load_dotenv\n",
        "import gradio as gr"
      ]
    },
    {
      "cell_type": "code",
      "source": [
        "!git clone https://github.com/skchandrappa/llm_engineering.git"
      ],
      "metadata": {
        "id": "HJkqpng7LXzp",
        "outputId": "6460e79f-ca7f-4cf4-a41f-2be28d076c15",
        "colab": {
          "base_uri": "https://localhost:8080/"
        }
      },
      "id": "HJkqpng7LXzp",
      "execution_count": 2,
      "outputs": [
        {
          "output_type": "stream",
          "name": "stdout",
          "text": [
            "Cloning into 'llm_engineering'...\n",
            "remote: Enumerating objects: 729, done.\u001b[K\n",
            "remote: Counting objects: 100% (293/293), done.\u001b[K\n",
            "remote: Compressing objects: 100% (125/125), done.\u001b[K\n",
            "remote: Total 729 (delta 193), reused 251 (delta 165), pack-reused 436 (from 1)\u001b[K\n",
            "Receiving objects: 100% (729/729), 16.49 MiB | 26.13 MiB/s, done.\n",
            "Resolving deltas: 100% (412/412), done.\n"
          ]
        }
      ]
    },
    {
      "cell_type": "code",
      "source": [
        "import os\n",
        "\n",
        "file_path = os.path.join('/content/llm_engineering/week5/knowledge-base/company', 'about.md')\n",
        "with open(file_path, 'r') as f:\n",
        "    content = f.read()"
      ],
      "metadata": {
        "id": "rKd-IzJCLwV8"
      },
      "id": "rKd-IzJCLwV8",
      "execution_count": 6,
      "outputs": []
    },
    {
      "cell_type": "code",
      "source": [
        "with open('/content/drive/My Drive/my_file.txt', 'r') as f:\n",
        "       contents = f.read()\n",
        "       print(contents)"
      ],
      "metadata": {
        "id": "sj-uNLnwJemH"
      },
      "id": "sj-uNLnwJemH",
      "execution_count": null,
      "outputs": []
    },
    {
      "cell_type": "code",
      "execution_count": null,
      "id": "802137aa-8a74-45e0-a487-d1974927d7ca",
      "metadata": {
        "id": "802137aa-8a74-45e0-a487-d1974927d7ca"
      },
      "outputs": [],
      "source": [
        "# imports for langchain\n",
        "\n",
        "from langchain.document_loaders import DirectoryLoader, TextLoader\n",
        "from langchain.text_splitter import CharacterTextSplitter"
      ]
    },
    {
      "cell_type": "code",
      "execution_count": null,
      "id": "58c85082-e417-4708-9efe-81a5d55d1424",
      "metadata": {
        "id": "58c85082-e417-4708-9efe-81a5d55d1424"
      },
      "outputs": [],
      "source": [
        "# price is a factor for our company, so we're going to use a low cost model\n",
        "\n",
        "MODEL = \"gpt-4o-mini\"\n",
        "db_name = \"vector_db\""
      ]
    },
    {
      "cell_type": "code",
      "execution_count": null,
      "id": "ee78efcb-60fe-449e-a944-40bab26261af",
      "metadata": {
        "id": "ee78efcb-60fe-449e-a944-40bab26261af"
      },
      "outputs": [],
      "source": [
        "# Load environment variables in a file called .env\n",
        "\n",
        "load_dotenv()\n",
        "os.environ['OPENAI_API_KEY'] = os.getenv('OPENAI_API_KEY', 'your-key-if-not-using-env')"
      ]
    },
    {
      "cell_type": "code",
      "execution_count": null,
      "id": "730711a9-6ffe-4eee-8f48-d6cfb7314905",
      "metadata": {
        "id": "730711a9-6ffe-4eee-8f48-d6cfb7314905"
      },
      "outputs": [],
      "source": [
        "# Read in documents using LangChain's loaders\n",
        "# Take everything in all the sub-folders of our knowledgebase\n",
        "\n",
        "folders = glob.glob(\"knowledge-base/*\")\n",
        "\n",
        "# With thanks to CG and Jon R, students on the course, for this fix needed for some users\n",
        "text_loader_kwargs = {'encoding': 'utf-8'}\n",
        "# If that doesn't work, some Windows users might need to uncomment the next line instead\n",
        "# text_loader_kwargs={'autodetect_encoding': True}\n",
        "\n",
        "documents = []\n",
        "for folder in folders:\n",
        "    doc_type = os.path.basename(folder)\n",
        "    loader = DirectoryLoader(folder, glob=\"**/*.md\", loader_cls=TextLoader, loader_kwargs=text_loader_kwargs)\n",
        "    folder_docs = loader.load()\n",
        "    for doc in folder_docs:\n",
        "        doc.metadata[\"doc_type\"] = doc_type\n",
        "        documents.append(doc)"
      ]
    },
    {
      "cell_type": "code",
      "execution_count": null,
      "id": "252f17e9-3529-4e81-996c-cfa9f08e75a8",
      "metadata": {
        "id": "252f17e9-3529-4e81-996c-cfa9f08e75a8"
      },
      "outputs": [],
      "source": [
        "len(documents)"
      ]
    },
    {
      "cell_type": "code",
      "execution_count": null,
      "id": "7e8decb0-d9b0-4d51-8402-7a6174d22159",
      "metadata": {
        "id": "7e8decb0-d9b0-4d51-8402-7a6174d22159"
      },
      "outputs": [],
      "source": [
        "documents[24]"
      ]
    },
    {
      "cell_type": "code",
      "execution_count": null,
      "id": "7310c9c8-03c1-4efc-a104-5e89aec6db1a",
      "metadata": {
        "id": "7310c9c8-03c1-4efc-a104-5e89aec6db1a"
      },
      "outputs": [],
      "source": [
        "text_splitter = CharacterTextSplitter(chunk_size=1000, chunk_overlap=200)\n",
        "chunks = text_splitter.split_documents(documents)"
      ]
    },
    {
      "cell_type": "code",
      "execution_count": null,
      "id": "cd06e02f-6d9b-44cc-a43d-e1faa8acc7bb",
      "metadata": {
        "id": "cd06e02f-6d9b-44cc-a43d-e1faa8acc7bb"
      },
      "outputs": [],
      "source": [
        "len(chunks)"
      ]
    },
    {
      "cell_type": "code",
      "execution_count": null,
      "id": "d2562754-9052-4aae-92c1-37236435ea06",
      "metadata": {
        "id": "d2562754-9052-4aae-92c1-37236435ea06"
      },
      "outputs": [],
      "source": [
        "chunks[6]"
      ]
    },
    {
      "cell_type": "code",
      "execution_count": null,
      "id": "2c54b4b6-06da-463d-bee7-4dd456c2b887",
      "metadata": {
        "id": "2c54b4b6-06da-463d-bee7-4dd456c2b887"
      },
      "outputs": [],
      "source": [
        "doc_types = set(chunk.metadata['doc_type'] for chunk in chunks)\n",
        "print(f\"Document types found: {', '.join(doc_types)}\")"
      ]
    },
    {
      "cell_type": "code",
      "execution_count": null,
      "id": "128c73f7-f149-4904-a554-8140941fce0c",
      "metadata": {
        "id": "128c73f7-f149-4904-a554-8140941fce0c"
      },
      "outputs": [],
      "source": [
        "for chunk in chunks:\n",
        "    if 'CEO' in chunk.page_content:\n",
        "        print(chunk)\n",
        "        print(\"_________\")"
      ]
    },
    {
      "cell_type": "code",
      "execution_count": null,
      "id": "6965971c-fb97-482c-a497-4e81a0ac83df",
      "metadata": {
        "id": "6965971c-fb97-482c-a497-4e81a0ac83df"
      },
      "outputs": [],
      "source": []
    }
  ],
  "metadata": {
    "kernelspec": {
      "display_name": "Python 3 (ipykernel)",
      "language": "python",
      "name": "python3"
    },
    "language_info": {
      "codemirror_mode": {
        "name": "ipython",
        "version": 3
      },
      "file_extension": ".py",
      "mimetype": "text/x-python",
      "name": "python",
      "nbconvert_exporter": "python",
      "pygments_lexer": "ipython3",
      "version": "3.11.10"
    },
    "colab": {
      "provenance": []
    }
  },
  "nbformat": 4,
  "nbformat_minor": 5
}