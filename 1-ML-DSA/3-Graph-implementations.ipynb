{
  "cells": [
    {
      "cell_type": "markdown",
      "metadata": {
        "id": "ao0SzukUF075"
      },
      "source": [
        "https://github.com/skchandrappa/dsa-cookbook.git\n",
        "\n"
      ]
    },
    {
      "cell_type": "markdown",
      "source": [
        "# Graph Implementation"
      ],
      "metadata": {
        "id": "GaLBYYRlJ9gX"
      }
    },
    {
      "cell_type": "code",
      "source": [
        "class edge:\n",
        "  def __init__(self,start,weight,end):\n",
        "    self.start=start\n",
        "    self.weight=weight\n",
        "    self.end=end\n",
        "\n",
        "class node:\n",
        "  def __init__(self,name):\n",
        "    self.name=name\n",
        "    self.neighors=[]\n",
        "    self.visited=False\n",
        "    self.predecessor=None\n",
        "    self.distance=0\n",
        "\n",
        "  def add_edge(self,weight,end):\n",
        "    self.neighors.append(edge(self,weight,end))\n",
        "\n",
        "  def __str__(self):\n",
        "    return self.name\n",
        "\n"
      ],
      "metadata": {
        "id": "BOIzDzRqJ6yf"
      },
      "execution_count": null,
      "outputs": []
    },
    {
      "cell_type": "markdown",
      "source": [
        "# Schema Graph"
      ],
      "metadata": {
        "id": "DB05cNAaJEAM"
      }
    },
    {
      "cell_type": "code",
      "source": [],
      "metadata": {
        "id": "2B2_A0ggV03z"
      },
      "execution_count": null,
      "outputs": []
    },
    {
      "cell_type": "markdown",
      "source": [
        "# Structure Graph\n"
      ],
      "metadata": {
        "id": "VbC8A7S-JLbF"
      }
    },
    {
      "cell_type": "code",
      "source": [],
      "metadata": {
        "id": "kzbvjJ2nJNo8"
      },
      "execution_count": null,
      "outputs": []
    },
    {
      "cell_type": "markdown",
      "source": [
        "# Principle graph"
      ],
      "metadata": {
        "id": "wXpwibh4JOQt"
      }
    },
    {
      "cell_type": "code",
      "source": [],
      "metadata": {
        "id": "tBlekAf4JRs1"
      },
      "execution_count": null,
      "outputs": []
    },
    {
      "cell_type": "markdown",
      "source": [
        "# Command Graph."
      ],
      "metadata": {
        "id": "LQtSsAANJSLV"
      }
    },
    {
      "cell_type": "code",
      "source": [],
      "metadata": {
        "id": "axGPYMJRJUT8"
      },
      "execution_count": null,
      "outputs": []
    },
    {
      "cell_type": "markdown",
      "source": [
        "# LLM Pings and resultset."
      ],
      "metadata": {
        "id": "s3CjuuujJcnA"
      }
    },
    {
      "cell_type": "code",
      "source": [],
      "metadata": {
        "id": "olO5ORuIJeQX"
      },
      "execution_count": null,
      "outputs": []
    },
    {
      "cell_type": "markdown",
      "source": [
        "# Github Upload"
      ],
      "metadata": {
        "id": "xF5n_UUjJmql"
      }
    },
    {
      "cell_type": "code",
      "source": [],
      "metadata": {
        "id": "KOJ2KtkZJoPT"
      },
      "execution_count": null,
      "outputs": []
    }
  ],
  "metadata": {
    "colab": {
      "provenance": [],
      "toc_visible": true
    },
    "kernelspec": {
      "display_name": "Python 3",
      "name": "python3"
    }
  },
  "nbformat": 4,
  "nbformat_minor": 0
}