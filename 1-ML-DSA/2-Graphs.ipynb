{
  "cells": [
    {
      "cell_type": "markdown",
      "metadata": {
        "id": "ao0SzukUF075"
      },
      "source": [
        "https://github.com/skchandrappa/dsa-cookbook.git\n",
        "\n"
      ]
    },
    {
      "cell_type": "markdown",
      "source": [
        "# 0-Single Graph - All Algo's"
      ],
      "metadata": {
        "id": "EkbGdybjbP6L"
      }
    },
    {
      "cell_type": "code",
      "source": [
        "class edge:\n",
        "  def __init__(self, start,weight,end):\n",
        "    self.start = start\n",
        "    self.end = end\n",
        "    self.weight = weight\n",
        "\n",
        "class node:\n",
        "  def __init__(self,name):\n",
        "    self.name = name\n",
        "    self.neighbors = []\n",
        "    self.visited = False\n",
        "    self.predecessor = None\n",
        "    self.min_distance = float(\"inf\")\n",
        "\n",
        "  def add_edge(self,weight,destination_vertex):\n",
        "    Edge = edge(self,weight,destination_vertex)\n",
        "    self.neighbors.append(Edge)\n",
        "\n",
        "  def __lt__(self, other_node):\n",
        "    return self.min_distance < other_node.min_distance\n",
        "\n",
        "  def breadthFirstSearch(self):\n",
        "    visited = []\n",
        "    queue =[self]\n",
        "    while queue:\n",
        "      vertex = queue.pop(0)\n",
        "      if vertex.name not in visited:\n",
        "        visited.append(vertex.name)\n",
        "        for i in range(len(vertex.neighbors)):\n",
        "          queue.append(vertex.neighbors[i].end)\n",
        "    return visited\n",
        "\n",
        "  def depthFirstSearch(self):\n",
        "    visited = []\n",
        "    stack = [self]\n",
        "    while stack:\n",
        "      vertex = stack.pop()\n",
        "      if vertex.name not in visited:\n",
        "        visited.append(vertex.name)\n",
        "        for i in range(len(vertex.neighbors)):\n",
        "          stack.append(vertex.neighbors[i].end)\n",
        "    return visited\n",
        "\n",
        "  def topologicalSort():\n",
        "    pass\n",
        "\n",
        "  def dijkstraSP():\n",
        "    pass\n",
        "\n",
        "  def bellmanFordSP():\n",
        "    pass\n",
        "\n",
        "  def floydWarshallSP():\n",
        "    pass\n",
        "\n",
        "  def kruskalMST():\n",
        "    pass\n",
        "\n",
        "  def primsMST():\n",
        "    pass\n",
        "\n",
        "nodeA = node(\"A\")\n",
        "nodeB = node(\"B\")\n",
        "nodeC = node(\"C\")\n",
        "nodeD = node(\"D\")\n",
        "nodeE = node(\"E\")\n",
        "\n",
        "nodeA.add_edge(1,nodeB)\n",
        "nodeA.add_edge(2,nodeC)\n",
        "nodeA.add_edge(3,nodeD)\n",
        "nodeB.add_edge(3,nodeD)\n",
        "nodeC.add_edge(4,nodeE)\n",
        "nodeD.add_edge(5,nodeE)\n",
        "\n",
        "nodeA.breadthFirstSearch()\n",
        "nodeA.depthFirstSearch()\n",
        "\n",
        "# nodeA.printAdjMatGraph()\n"
      ],
      "metadata": {
        "id": "IrAm3HdK5Csu",
        "outputId": "8d402514-fc2c-4702-8d22-9421048963e0",
        "colab": {
          "base_uri": "https://localhost:8080/"
        }
      },
      "execution_count": 10,
      "outputs": [
        {
          "output_type": "execute_result",
          "data": {
            "text/plain": [
              "['A', 'D', 'E', 'C', 'B']"
            ]
          },
          "metadata": {},
          "execution_count": 10
        }
      ]
    },
    {
      "cell_type": "markdown",
      "source": [
        "# 1- Create a Graph with Adjacency matrix and traverse BFS / DFS."
      ],
      "metadata": {
        "id": "lYqpwXFMGHDO"
      }
    },
    {
      "cell_type": "code",
      "source": [
        "\"\"\"\n",
        "### Create a class of Graph with attributes graph Dict and methods : add vertex , add edge, traverse and display, remove.\n",
        "\n",
        "{\n",
        "  \"a\": [\"b\", \"c\"],\n",
        "  \"b\": [\"a\", \"d\"],\n",
        "  \"c\": [\"a\", \"d\"],\n",
        "  \"d\": [\"e\"],\n",
        "  \"e\": [\"d\"]\n",
        "}\n",
        "\n",
        "Notes :\n",
        "  BFS Vs DFS : When target is close to startting point - BFS Buried deep - DFS\n",
        "\n",
        "\"\"\"\n",
        "\n",
        "class Graph:\n",
        "  def __init__(self):\n",
        "    self.graph = {}\n",
        "\n",
        "  ### If pressent in the list do not add else add.\n",
        "  def add_vertex(self, vertex):\n",
        "    if vertex not in self.graph.keys():\n",
        "      self.graph[vertex] = []\n",
        "      return True\n",
        "    return False\n",
        "\n",
        "  def print_graph(self):\n",
        "    for vertex in self.graph:\n",
        "      print(vertex,\"\",self.graph[vertex])\n",
        "\n",
        "  def add_edge(self, v1, v2):\n",
        "    if v1 in self.graph.keys() and v2 in self.graph.keys():\n",
        "      self.graph[v1].append(v2)\n",
        "      self.graph[v2].append(v1)\n",
        "      return True\n",
        "    return False\n",
        "\n",
        "  def remove_edge(self, v1, v2):\n",
        "    if v1 in self.graph.keys() and v2 in self.graph.keys():\n",
        "      try:\n",
        "        self.graph[v1].remove(v2)\n",
        "        self.graph[v2].remove(v1)\n",
        "      except ValueError:\n",
        "        pass\n",
        "        return True\n",
        "    return False\n",
        "\n",
        "  ### BFS search\n",
        "  def bfs(self, starting_vertex):\n",
        "    visited = []\n",
        "    queue = [starting_vertex]\n",
        "\n",
        "    while queue:\n",
        "      vertex = queue.pop(0)\n",
        "      if vertex not in visited:\n",
        "        visited.append(vertex)\n",
        "        queue.extend(self.graph[vertex])\n",
        "\n",
        "    return visited\n",
        "\n",
        "  ### DFS search\n",
        "  def dfs(self, starting_vertex):\n",
        "    visited = []\n",
        "    stack = [starting_vertex]\n",
        "\n",
        "    while stack:\n",
        "      vertex = stack.pop()\n",
        "      if vertex not in visited:\n",
        "        visited.append(vertex)\n",
        "        stack.extend(self.graph[vertex])\n",
        "    return visited\n",
        "\n",
        "custom_graph = Graph()\n",
        "# custom_graph.add_vertex(\"a\")\n",
        "# custom_graph.add_vertex(\"b\")\n",
        "# custom_graph.print_graph()\n",
        "# custom_graph.add_edge(\"a\", \"b\")\n",
        "# custom_graph.print_graph()\n",
        "# print(custom_graph.bfs(\"b\"))\n",
        "\n",
        "input_path = [(\"sfo\",\"las\"),(\"las\",\"lvs\"),(\"lvs\",\"slc\"),(\"slc\",\"las\"),(\"las\",\"dfw\"),(\"dfw\",\"jfk\")]\n",
        "\n",
        "for i in range(len(input_path)):\n",
        "  custom_graph.add_vertex(input_path[i][0])\n",
        "  custom_graph.add_vertex(input_path[i][1])\n",
        "\n",
        "for i in range(len(input_path)):\n",
        "  custom_graph.add_edge(input_path[i][0], input_path[i][1])\n",
        "\n",
        "custom_graph.print_graph()\n",
        "print(custom_graph.bfs(\"sfo\"))\n"
      ],
      "metadata": {
        "id": "RUoNvLyJXLGV",
        "outputId": "51420753-aba8-46e7-8ef5-b390e1f2b131",
        "colab": {
          "base_uri": "https://localhost:8080/"
        }
      },
      "execution_count": null,
      "outputs": [
        {
          "output_type": "stream",
          "name": "stdout",
          "text": [
            "sfo  ['las']\n",
            "las  ['sfo', 'lvs', 'slc', 'dfw']\n",
            "lvs  ['las', 'slc']\n",
            "slc  ['lvs', 'las']\n",
            "dfw  ['las', 'jfk']\n",
            "jfk  ['dfw']\n",
            "['sfo', 'las', 'lvs', 'slc', 'dfw', 'jfk']\n"
          ]
        }
      ]
    },
    {
      "cell_type": "markdown",
      "source": [
        "# 2-Topological Sort : LLM Command Graph from a json - Basic."
      ],
      "metadata": {
        "id": "6KDmONrxGLd4"
      }
    },
    {
      "cell_type": "code",
      "source": [
        "\n",
        "from collections import defaultdict\n",
        "\n",
        "class Graph:\n",
        "    def __init__(self, numberofVertices):\n",
        "        self.graph = defaultdict(list)\n",
        "\n",
        "    def addEdge(self, vertex, edge):\n",
        "        self.graph[vertex].append(edge)\n",
        "\n",
        "    def printgraph(self):\n",
        "        for vertex in self.graph:\n",
        "            print(vertex, \" -> \", self.graph[vertex])\n",
        "\n",
        "    def topogologicalSortUtil(self, v, visited, stack):\n",
        "        # for child of the vertex, set vetex as parent and chck for child to be in visited and add to stack.\n",
        "        visited.append(v)\n",
        "\n",
        "        for i in self.graph[v]:\n",
        "            if i not in visited:\n",
        "                self.topogologicalSortUtil(i, visited, stack)\n",
        "\n",
        "        stack.insert(0, v)\n",
        "\n",
        "    def topologicalSort(self):\n",
        "        visited = []\n",
        "        stack = []\n",
        "\n",
        "        ## for every vertex in the graph perform recursive check.\n",
        "        for k in list(self.graph):\n",
        "\n",
        "            if k not in visited:\n",
        "                self.topogologicalSortUtil(k, visited, stack)\n",
        "\n",
        "        print(stack)\n",
        "\n",
        "    def dfs(self, starting_vertex):\n",
        "        visited = []\n",
        "        stack = [starting_vertex]\n",
        "\n",
        "        while stack:\n",
        "          vertex = stack.pop()\n",
        "          if vertex not in visited:\n",
        "            visited.append(vertex)\n",
        "            stack.extend(self.graph[vertex])\n",
        "        print(visited)\n",
        "\n",
        "\n",
        "customGraph = Graph(8)\n",
        "customGraph.addEdge(\"A\", \"B\")\n",
        "customGraph.addEdge(\"A\", \"C\")\n",
        "customGraph.addEdge(\"B\", \"D\")\n",
        "customGraph.addEdge(\"B\", \"E\")\n",
        "customGraph.addEdge(\"C\", \"E\")\n",
        "\n",
        "customGraph.printgraph()\n",
        "\n"
      ],
      "metadata": {
        "colab": {
          "base_uri": "https://localhost:8080/"
        },
        "id": "VyJobt2lGQus",
        "outputId": "43398331-b27b-43d1-a3e0-daa9d71b4055"
      },
      "execution_count": null,
      "outputs": [
        {
          "output_type": "stream",
          "name": "stdout",
          "text": [
            "A  ->  ['B', 'C']\n",
            "B  ->  ['D', 'E']\n",
            "C  ->  ['E']\n"
          ]
        }
      ]
    },
    {
      "cell_type": "code",
      "source": [
        "!pip install genson\n",
        "!pip install networkx\n",
        "!pip install matplotlib"
      ],
      "metadata": {
        "id": "t1nDmwdfz_Si"
      },
      "execution_count": null,
      "outputs": []
    },
    {
      "cell_type": "code",
      "source": [
        "class Graph:\n",
        "    def __init__(self):\n",
        "        self.graph = defaultdict(list)\n",
        "\n",
        "    def addEdge(self, vertex, edge):\n",
        "        self.graph[vertex].append(edge)\n",
        "\n",
        "    def printgraph(self):\n",
        "        for vertex in self.graph:\n",
        "            print(vertex, \" -> \", self.graph[vertex])\n",
        "\n",
        "    def topogologicalSortUtil(self, v, visited, stack):\n",
        "        # for child of the vertex, set vetex as parent and chck for child to be in visited and add to stack.\n",
        "        visited.append(v)\n",
        "\n",
        "        for i in self.graph[v]:\n",
        "            if i not in visited:\n",
        "                self.topogologicalSortUtil(i, visited, stack)\n",
        "\n",
        "        stack.insert(0, v)\n",
        "\n",
        "    def topologicalSort(self):\n",
        "        visited = []\n",
        "        stack = []\n",
        "\n",
        "        ## for every vertex in the graph perform recursive check.\n",
        "        for k in list(self.graph):\n",
        "\n",
        "            if k not in visited:\n",
        "                self.topogologicalSortUtil(k, visited, stack)\n",
        "\n",
        "        print(stack)\n",
        "\n",
        "    def dfs(self, starting_vertex):\n",
        "        visited = []\n",
        "        stack = [starting_vertex]\n",
        "\n",
        "        while stack:\n",
        "          vertex = stack.pop()\n",
        "          if vertex not in visited:\n",
        "            visited.append(vertex)\n",
        "            stack.extend(self.graph[vertex])\n",
        "\n",
        "        print(visited)\n",
        "\n",
        "      ### BFS search\n",
        "    def bfs(self, starting_vertex):\n",
        "      visited = []\n",
        "      queue = [starting_vertex]\n",
        "\n",
        "      while queue:\n",
        "        vertex = queue.pop(0)\n",
        "        if vertex not in visited:\n",
        "          visited.append(vertex)\n",
        "          queue.extend(self.graph[vertex])\n",
        "\n",
        "      print(visited)"
      ],
      "metadata": {
        "id": "UoQFdz1x_MUs"
      },
      "execution_count": null,
      "outputs": []
    },
    {
      "cell_type": "code",
      "source": [
        "import json\n",
        "import genson\n",
        "import networkx as nx\n",
        "import matplotlib.pyplot as plt\n",
        "\n",
        "def convert_schema(data):\n",
        "\n",
        "    # Create a schema builder.\n",
        "    schema_builder = genson.SchemaBuilder(data)\n",
        "    # Add data to the schema builder.\n",
        "    schema_builder.add_object(data )\n",
        "    # Generate the schema.\n",
        "\n",
        "    return schema_builder.to_schema()\n",
        "\n",
        "data = {\n",
        "  \"name\": \"John Doe\",\n",
        "  \"age\": 30,\n",
        "  \"weight\":26.3456,\n",
        "  \"is_student\": True,\n",
        "  \"hobbies\": [\"reading\", \"coding\", \"traveling\"],  ### create a line with add Button and repeat if not Json else drop down list.\n",
        "  \"address\": {\n",
        "    \"street\": \"123 Main St\",\n",
        "    \"city\": \"Anytown\",\n",
        "    \"state\": \"CA\",\n",
        "    \"zip\": 12345\n",
        "  },\n",
        "  \"favorite_color\": '',\n",
        "  \"last_updated\": \"2023-12-31T23:59:59Z\"\n",
        "}\n",
        "\n",
        "schemaJson = convert_schema(data)\n",
        "\n",
        "#print(schemaJson['properties'])\n",
        "## gather all properties and add as vertices.\n",
        "\n",
        "def getvertices(properties,commandGraph,starting_vertex):\n",
        "  for key,value in properties.items():\n",
        "      if value[\"type\"] != \"object\":\n",
        "          print(key,starting_vertex)\n",
        "          commandGraph.addEdge(starting_vertex,key)\n",
        "      else:\n",
        "          commandGraph.addEdge(starting_vertex,key)\n",
        "          getvertices(value[\"properties\"],commandGraph,key)\n",
        "\n",
        "\n",
        "commandGraph=Graph()\n",
        "starting_vertex = \"schema\"\n",
        "getvertices(schemaJson['properties'],commandGraph,starting_vertex)\n",
        "commandGraph.printgraph()\n",
        "commandGraph.bfs(\"schema\")\n"
      ],
      "metadata": {
        "colab": {
          "base_uri": "https://localhost:8080/"
        },
        "id": "IMcPMy4bz5s9",
        "outputId": "175b10d1-d548-4957-8375-977e12bb5344"
      },
      "execution_count": null,
      "outputs": [
        {
          "output_type": "stream",
          "name": "stdout",
          "text": [
            "name schema\n",
            "age schema\n",
            "weight schema\n",
            "is_student schema\n",
            "hobbies schema\n",
            "street address\n",
            "city address\n",
            "state address\n",
            "zip address\n",
            "favorite_color schema\n",
            "last_updated schema\n",
            "schema  ->  ['name', 'age', 'weight', 'is_student', 'hobbies', 'address', 'favorite_color', 'last_updated']\n",
            "address  ->  ['street', 'city', 'state', 'zip']\n",
            "['schema', 'name', 'age', 'weight', 'is_student', 'hobbies', 'address', 'favorite_color', 'last_updated', 'street', 'city', 'state', 'zip']\n"
          ]
        }
      ]
    },
    {
      "cell_type": "markdown",
      "source": [
        "# 3- Single Source Shortest path. BFS"
      ],
      "metadata": {
        "id": "OL4hdozin0m_"
      }
    },
    {
      "cell_type": "code",
      "source": [
        "#   Created by Elshad Karimov\n",
        "#   Copyright © 2021 AppMillers. All rights reserved.\n",
        "\n",
        "## Path Queue Node Variables.\n",
        "\n",
        "class Graph:\n",
        "    def __init__(self, gdict=None):\n",
        "        if gdict is None:\n",
        "            gdict = {}\n",
        "        self.gdict = gdict\n",
        "\n",
        "    def bfs(self, start, end):\n",
        "        queue = []\n",
        "        queue.append([start])\n",
        "\n",
        "        while queue:\n",
        "            path = queue.pop(0)\n",
        "            node = path[-1]\n",
        "            # print(\"node -- >\",node,\"|\")\n",
        "\n",
        "            if node == end:\n",
        "                print(queue)\n",
        "                return path\n",
        "\n",
        "            for adjacent in self.gdict.get(node, []):\n",
        "                new_path = list(path)\n",
        "                new_path.append(adjacent)\n",
        "                queue.append(new_path)\n",
        "                # print(adjacent,\"-->\",queue)\n",
        "\n",
        "customDict = { \"a\" : [\"b\", \"c\"],\n",
        "               \"b\" : [\"d\", \"g\"],\n",
        "               \"c\" : [\"d\", \"e\"],\n",
        "               \"d\" : [\"f\"],\n",
        "               \"e\" : [\"f\"],\n",
        "               \"g\" : [\"f\"]\n",
        "            }\n",
        "\n",
        "g = Graph(customDict)\n",
        "print(g.bfs(\"a\", \"d\"))\n",
        "\n",
        "# customDict = { \"SF\" : [\"LA\"],\n",
        "#                \"LA\" : [\"SLC\",\"LV\"],\n",
        "#                \"LV\" : [\"SLC\",\"DFW\"],\n",
        "#                \"SLC\" : [\"LA\",\"LV\"],\n",
        "#                \"DFW\" : [\"JFK\"]\n",
        "#              }\n",
        "\n",
        "# g = Graph(customDict)\n",
        "# print(g.bfs(\"SF\", \"JFK\"))\n"
      ],
      "metadata": {
        "colab": {
          "base_uri": "https://localhost:8080/"
        },
        "id": "WLER9PIin8Nb",
        "outputId": "74c2b100-3b95-497e-cbdb-020ec269c124"
      },
      "execution_count": null,
      "outputs": [
        {
          "output_type": "stream",
          "name": "stdout",
          "text": [
            "[['a', 'b', 'g'], ['a', 'c', 'd'], ['a', 'c', 'e']]\n",
            "['a', 'b', 'd']\n"
          ]
        }
      ]
    },
    {
      "cell_type": "code",
      "source": [],
      "metadata": {
        "id": "AzLBrwPk8GhJ"
      },
      "execution_count": null,
      "outputs": []
    },
    {
      "cell_type": "markdown",
      "source": [
        "#  4- Single Source Shortest path.  DJIKISTRA"
      ],
      "metadata": {
        "id": "VTot1dfPKFEN"
      }
    },
    {
      "cell_type": "code",
      "source": [
        "import heapq\n",
        "# class for edges\n",
        "\n",
        "class Edge:\n",
        "    def __init__(self, weight, start_vertex, target_vertex):\n",
        "        self.weight = weight\n",
        "        self.start_vertex = start_vertex\n",
        "        self.target_vertex = target_vertex\n",
        "\n",
        "# class for Nodes\n",
        "class Node:\n",
        "    def __init__(self, name):\n",
        "        self.name = name\n",
        "        self.visited = False\n",
        "        # previous node that we come to this node\n",
        "        self.predecessor = None\n",
        "        self.neighbors = []\n",
        "        self.min_distance = float(\"inf\")\n",
        "\n",
        "    def __lt__(self, other_node):\n",
        "        return self.min_distance < other_node.min_distance\n",
        "\n",
        "    def add_edge(self, weight, destination_vertex):\n",
        "        edge = Edge(weight, self, destination_vertex)\n",
        "        self.neighbors.append(edge)\n",
        "\n",
        "# Dijkstra Algorithm\n",
        "class Dijkstra:\n",
        "    def __init__(self):\n",
        "        self.heap = []\n",
        "\n",
        "    def calculate(self, start_vertex):\n",
        "        start_vertex.min_distance = 0\n",
        "        heapq.heappush(self.heap, start_vertex)\n",
        "\n",
        "        while self.heap:\n",
        "            # pop element with the lowest distance\n",
        "            actual_vertex = heapq.heappop(self.heap)\n",
        "            if actual_vertex.visited:\n",
        "                continue\n",
        "            #  consider the neighbors\n",
        "            for edge in actual_vertex.neighbors:\n",
        "                start = edge.start_vertex\n",
        "                target = edge.target_vertex\n",
        "                new_distance = start.min_distance + edge.weight\n",
        "                if new_distance < target.min_distance:\n",
        "                    target.min_distance = new_distance\n",
        "                    target.predecessor = start\n",
        "                    # update the heap\n",
        "                    heapq.heappush(self.heap, target)\n",
        "                    # [F-19, F-17]\n",
        "            actual_vertex.visited = True\n",
        "\n",
        "    def get_shortest_path(self, vertex):\n",
        "        print(f\"The shortest path to the vertext is: {vertex.min_distance}\")\n",
        "        actual_vertex = vertex\n",
        "        while actual_vertex is not None:\n",
        "            print(actual_vertex.name, end=\" \")\n",
        "            actual_vertex = actual_vertex.predecessor\n",
        "\n",
        "\n",
        "\n",
        "# Step 1 - create nodes\n",
        "nodeA = Node(\"A\")\n",
        "nodeB = Node(\"B\")\n",
        "nodeC = Node(\"C\")\n",
        "nodeD = Node(\"D\")\n",
        "nodeE = Node(\"E\")\n",
        "nodeF = Node(\"F\")\n",
        "nodeG = Node(\"G\")\n",
        "nodeH = Node(\"H\")\n",
        "\n",
        "# Step 2 - create edges\n",
        "nodeA.add_edge(6, nodeB)\n",
        "nodeA.add_edge(10, nodeC)\n",
        "nodeA.add_edge(9, nodeD)\n",
        "\n",
        "nodeB.add_edge(5, nodeD)\n",
        "nodeB.add_edge(16, nodeE)\n",
        "nodeB.add_edge(13, nodeF)\n",
        "\n",
        "nodeC.add_edge(6, nodeD)\n",
        "nodeC.add_edge(5, nodeH)\n",
        "nodeC.add_edge(21, nodeG)\n",
        "\n",
        "nodeD.add_edge(8, nodeF)\n",
        "nodeD.add_edge(7, nodeH)\n",
        "\n",
        "nodeE.add_edge(10, nodeG)\n",
        "\n",
        "nodeF.add_edge(4, nodeE)\n",
        "nodeF.add_edge(12, nodeG)\n",
        "\n",
        "nodeH.add_edge(2, nodeF)\n",
        "nodeH.add_edge(14, nodeG)\n",
        "\n",
        "algorithm = Dijkstra()\n",
        "algorithm.calculate(nodeA)\n",
        "algorithm.get_shortest_path(nodeG)"
      ],
      "metadata": {
        "colab": {
          "base_uri": "https://localhost:8080/"
        },
        "id": "W6n9L3HsKJJ9",
        "outputId": "8c729066-a290-4495-e2cd-b2bb9a2567ab"
      },
      "execution_count": null,
      "outputs": [
        {
          "output_type": "stream",
          "name": "stdout",
          "text": [
            "The shortest path to the vertext is: 29\n",
            "G H C A "
          ]
        }
      ]
    },
    {
      "cell_type": "markdown",
      "source": [
        "# 5-Minimum spanning Trees."
      ],
      "metadata": {
        "id": "V3p0YOkYDQqz"
      }
    },
    {
      "cell_type": "code",
      "source": [
        "#   Created by Elshad Karimov\n",
        "#   Copyright © 2021 AppMillers. All rights reserved.\n",
        "\n",
        "# Disjoint Set in Python\n",
        "\n",
        "class DisjointSet:\n",
        "    def __init__(self, vertices):\n",
        "        self.vertices = vertices\n",
        "        self.parent = {}\n",
        "        for v in vertices:\n",
        "            self.parent[v] = v\n",
        "        print(self.parent)\n",
        "\n",
        "        self.rank = dict.fromkeys(vertices, 0)\n",
        "        print(self.rank)\n",
        "\n",
        "    def find(self, item):\n",
        "        if self.parent[item] == item:\n",
        "            return item\n",
        "        else:\n",
        "            return self.find(self.parent[item])\n",
        "\n",
        "    def union(self, x, y):\n",
        "\n",
        "        xroot = self.find(x)\n",
        "        yroot = self.find(y)\n",
        "\n",
        "        if self.rank[xroot] < self.rank[yroot]:\n",
        "            self.parent[xroot] = yroot\n",
        "        elif self.rank[xroot] > self.rank[yroot]:\n",
        "            self.parent[yroot] = xroot\n",
        "        else:\n",
        "            self.parent[yroot] = xroot\n",
        "            self.rank[xroot] += 1\n",
        "\n",
        "        print(self.parent)\n",
        "        print(self.rank)\n",
        "\n",
        "vertices = [\"A\", \"B\", \"C\", \"D\", \"E\"]\n",
        "\n",
        "ds = DisjointSet(vertices)\n",
        "ds.union(\"A\", \"B\")\n",
        "ds.union(\"A\", \"C\")\n",
        "print(ds.find(\"C\"))\n",
        "\n",
        "\"\"\"\n",
        "[\n",
        "    {\n",
        "        \"A\": \"A\",\n",
        "        \"B\": \"B\",\n",
        "        \"C\": \"C\",\n",
        "        \"D\": \"D\",\n",
        "        \"E\": \"E\"\n",
        "    },\n",
        "    {\n",
        "        \"A\": \"A\",\n",
        "        \"B\": \"A\",\n",
        "        \"C\": \"C\",\n",
        "        \"D\": \"D\",\n",
        "        \"E\": \"E\"\n",
        "    },\n",
        "    {\n",
        "        \"A\": \"A\",\n",
        "        \"B\": \"A\",\n",
        "        \"C\": \"A\",\n",
        "        \"D\": \"D\",\n",
        "        \"E\": \"E\"\n",
        "    },\n",
        "    {\n",
        "        \"A\": 0,\n",
        "        \"B\": 0,\n",
        "        \"C\": 0,\n",
        "        \"D\": 0,\n",
        "        \"E\": 0\n",
        "    },\n",
        "    {\n",
        "        \"A\": 1,\n",
        "        \"B\": 0,\n",
        "        \"C\": 0,\n",
        "        \"D\": 0,\n",
        "        \"E\": 0\n",
        "    },\n",
        "    {\n",
        "        \"A\": 1,\n",
        "        \"B\": 0,\n",
        "        \"C\": 0,\n",
        "        \"D\": 0,\n",
        "        \"E\": 0\n",
        "    }\n",
        "]\n",
        "\"\"\"\n"
      ],
      "metadata": {
        "id": "8T__-xxtDVhx",
        "outputId": "a098b494-46a4-479a-f18f-acdad953dc3b",
        "colab": {
          "base_uri": "https://localhost:8080/"
        }
      },
      "execution_count": 6,
      "outputs": [
        {
          "output_type": "stream",
          "name": "stdout",
          "text": [
            "{'A': 'A', 'B': 'B', 'C': 'C', 'D': 'D', 'E': 'E'}\n",
            "{'A': 0, 'B': 0, 'C': 0, 'D': 0, 'E': 0}\n",
            "{'A': 'A', 'B': 'A', 'C': 'C', 'D': 'D', 'E': 'E'}\n",
            "{'A': 1, 'B': 0, 'C': 0, 'D': 0, 'E': 0}\n",
            "{'A': 'A', 'B': 'A', 'C': 'A', 'D': 'D', 'E': 'E'}\n",
            "{'A': 1, 'B': 0, 'C': 0, 'D': 0, 'E': 0}\n",
            "A\n"
          ]
        }
      ]
    },
    {
      "cell_type": "code",
      "source": [
        "#   Created by Elshad Karimov\n",
        "#   Copyright © 2021 AppMillers. All rights reserved.\n",
        "\n",
        "# Kruskal Algorithm  in Python\n",
        "#import DisjointSet as dst\n",
        "\n",
        "class Graph:\n",
        "    def __init__(self, vertices):\n",
        "        self.V = vertices\n",
        "        self.graph = []\n",
        "        self.nodes = []\n",
        "        self.MST = []\n",
        "\n",
        "    def addEdge(self, s, d, w):\n",
        "        self.graph.append([s, d, w])\n",
        "\n",
        "    def addNode(self, value):\n",
        "        self.nodes.append(value)\n",
        "\n",
        "    def printSolution(self,s,d,w):\n",
        "        for s, d, w in self.MST:\n",
        "            print(\"%s - %s: %s\" % (s, d, w))\n",
        "\n",
        "    def kruskalAlgo(self):\n",
        "        i, e = 0, 0\n",
        "        ds = dst.DisjointSet(self.nodes)\n",
        "        self.graph = sorted(self.graph, key=lambda item: item[2])\n",
        "        while e < self.V - 1:\n",
        "            s, d, w = self.graph[i]\n",
        "            i += 1\n",
        "            x = ds.find(s)\n",
        "            y = ds.find(d)\n",
        "            if x != y:\n",
        "                e += 1\n",
        "                self.MST.append([s,d,w])\n",
        "                ds.union(x,y)\n",
        "        self.printSolution(s,d,w)\n",
        "\n",
        "g = Graph(5)\n",
        "g.addNode(\"A\")\n",
        "g.addNode(\"B\")\n",
        "g.addNode(\"C\")\n",
        "g.addNode(\"D\")\n",
        "g.addNode(\"E\")\n",
        "g.addEdge(\"A\", \"B\", 5)\n",
        "g.addEdge(\"A\", \"C\", 13)\n",
        "g.addEdge(\"A\", \"E\", 15)\n",
        "g.addEdge(\"B\", \"A\", 5)\n",
        "g.addEdge(\"B\", \"C\", 10)\n",
        "g.addEdge(\"B\", \"D\", 8)\n",
        "g.addEdge(\"C\", \"A\", 13)\n",
        "g.addEdge(\"C\", \"B\", 10)\n",
        "g.addEdge(\"C\", \"E\", 20)\n",
        "g.addEdge(\"C\", \"D\", 6)\n",
        "g.addEdge(\"D\", \"B\", 8)\n",
        "g.addEdge(\"D\", \"C\", 6)\n",
        "g.addEdge(\"E\", \"A\", 15)\n",
        "g.addEdge(\"E\", \"C\", 20)\n",
        "\n",
        "g.kruskalAlgo()\n",
        "\n",
        "\n"
      ],
      "metadata": {
        "id": "mbnFaCaoHy3X",
        "outputId": "93a321a8-6e6a-4eee-fd3f-368ddd1ccfda",
        "colab": {
          "base_uri": "https://localhost:8080/",
          "height": 376
        }
      },
      "execution_count": 11,
      "outputs": [
        {
          "output_type": "error",
          "ename": "NameError",
          "evalue": "name 'dst' is not defined",
          "traceback": [
            "\u001b[0;31m---------------------------------------------------------------------------\u001b[0m",
            "\u001b[0;31mNameError\u001b[0m                                 Traceback (most recent call last)",
            "\u001b[0;32m<ipython-input-11-8fef35a65440>\u001b[0m in \u001b[0;36m<cell line: 60>\u001b[0;34m()\u001b[0m\n\u001b[1;32m     58\u001b[0m \u001b[0mg\u001b[0m\u001b[0;34m.\u001b[0m\u001b[0maddEdge\u001b[0m\u001b[0;34m(\u001b[0m\u001b[0;34m\"E\"\u001b[0m\u001b[0;34m,\u001b[0m \u001b[0;34m\"C\"\u001b[0m\u001b[0;34m,\u001b[0m \u001b[0;36m20\u001b[0m\u001b[0;34m)\u001b[0m\u001b[0;34m\u001b[0m\u001b[0;34m\u001b[0m\u001b[0m\n\u001b[1;32m     59\u001b[0m \u001b[0;34m\u001b[0m\u001b[0m\n\u001b[0;32m---> 60\u001b[0;31m \u001b[0mg\u001b[0m\u001b[0;34m.\u001b[0m\u001b[0mkruskalAlgo\u001b[0m\u001b[0;34m(\u001b[0m\u001b[0;34m)\u001b[0m\u001b[0;34m\u001b[0m\u001b[0;34m\u001b[0m\u001b[0m\n\u001b[0m\u001b[1;32m     61\u001b[0m \u001b[0;34m\u001b[0m\u001b[0m\n\u001b[1;32m     62\u001b[0m \u001b[0;34m\u001b[0m\u001b[0m\n",
            "\u001b[0;32m<ipython-input-11-8fef35a65440>\u001b[0m in \u001b[0;36mkruskalAlgo\u001b[0;34m(self)\u001b[0m\n\u001b[1;32m     24\u001b[0m     \u001b[0;32mdef\u001b[0m \u001b[0mkruskalAlgo\u001b[0m\u001b[0;34m(\u001b[0m\u001b[0mself\u001b[0m\u001b[0;34m)\u001b[0m\u001b[0;34m:\u001b[0m\u001b[0;34m\u001b[0m\u001b[0;34m\u001b[0m\u001b[0m\n\u001b[1;32m     25\u001b[0m         \u001b[0mi\u001b[0m\u001b[0;34m,\u001b[0m \u001b[0me\u001b[0m \u001b[0;34m=\u001b[0m \u001b[0;36m0\u001b[0m\u001b[0;34m,\u001b[0m \u001b[0;36m0\u001b[0m\u001b[0;34m\u001b[0m\u001b[0;34m\u001b[0m\u001b[0m\n\u001b[0;32m---> 26\u001b[0;31m         \u001b[0mds\u001b[0m \u001b[0;34m=\u001b[0m \u001b[0mdst\u001b[0m\u001b[0;34m.\u001b[0m\u001b[0mDisjointSet\u001b[0m\u001b[0;34m(\u001b[0m\u001b[0mself\u001b[0m\u001b[0;34m.\u001b[0m\u001b[0mnodes\u001b[0m\u001b[0;34m)\u001b[0m\u001b[0;34m\u001b[0m\u001b[0;34m\u001b[0m\u001b[0m\n\u001b[0m\u001b[1;32m     27\u001b[0m         \u001b[0mself\u001b[0m\u001b[0;34m.\u001b[0m\u001b[0mgraph\u001b[0m \u001b[0;34m=\u001b[0m \u001b[0msorted\u001b[0m\u001b[0;34m(\u001b[0m\u001b[0mself\u001b[0m\u001b[0;34m.\u001b[0m\u001b[0mgraph\u001b[0m\u001b[0;34m,\u001b[0m \u001b[0mkey\u001b[0m\u001b[0;34m=\u001b[0m\u001b[0;32mlambda\u001b[0m \u001b[0mitem\u001b[0m\u001b[0;34m:\u001b[0m \u001b[0mitem\u001b[0m\u001b[0;34m[\u001b[0m\u001b[0;36m2\u001b[0m\u001b[0;34m]\u001b[0m\u001b[0;34m)\u001b[0m\u001b[0;34m\u001b[0m\u001b[0;34m\u001b[0m\u001b[0m\n\u001b[1;32m     28\u001b[0m         \u001b[0;32mwhile\u001b[0m \u001b[0me\u001b[0m \u001b[0;34m<\u001b[0m \u001b[0mself\u001b[0m\u001b[0;34m.\u001b[0m\u001b[0mV\u001b[0m \u001b[0;34m-\u001b[0m \u001b[0;36m1\u001b[0m\u001b[0;34m:\u001b[0m\u001b[0;34m\u001b[0m\u001b[0;34m\u001b[0m\u001b[0m\n",
            "\u001b[0;31mNameError\u001b[0m: name 'dst' is not defined"
          ]
        }
      ]
    },
    {
      "cell_type": "code",
      "source": [
        "#   Created by Elshad Karimov\n",
        "#   Copyright © 2021 AppMillers. All rights reserved.\n",
        "\n",
        "# Prims Algorithm  in Python\n",
        "import sys\n",
        "class Graph:\n",
        "    def __init__(self, vertexNum, edges, nodes):\n",
        "        self.edges = edges\n",
        "        self.nodes = nodes\n",
        "        self.vertexNum = vertexNum\n",
        "        self.MST = []\n",
        "\n",
        "    def printSolution(self):\n",
        "        print(\"Edge : Weight\")\n",
        "        for s, d, w in self.MST:\n",
        "            print(\"%s -> %s: %s\" % (s, d, w))\n",
        "\n",
        "    def primsAlgo(self):\n",
        "        visited = [0]*self.vertexNum\n",
        "        edgeNum=0\n",
        "        visited[0]=True\n",
        "        while edgeNum<self.vertexNum-1:\n",
        "            min = sys.maxsize\n",
        "            for i in range(self.vertexNum):\n",
        "                if visited[i]:\n",
        "                    for j in range(self.vertexNum):\n",
        "                        if ((not visited[j]) and self.edges[i][j]):\n",
        "                            if min > self.edges[i][j]:\n",
        "                                min = self.edges[i][j]\n",
        "                                s = i\n",
        "                                d = j\n",
        "            self.MST.append([self.nodes[s], self.nodes[d], self.edges[s][d]])\n",
        "            visited[d] = True\n",
        "            edgeNum += 1\n",
        "        self.printSolution()\n",
        "\n",
        "\n",
        "\n",
        "edges = [[0, 10, 20, 0, 0],\n",
        "\t\t[10, 0, 30, 5, 0],\n",
        "\t\t[20, 30, 0, 15, 6],\n",
        "\t\t[0, 5, 15, 0, 8],\n",
        "\t\t[0, 0, 6, 8, 0]]\n",
        "nodes = [\"A\",\"B\",\"C\",\"D\",\"E\"]\n",
        "g = Graph(5, edges, nodes)\n",
        "g.primsAlgo()\n"
      ],
      "metadata": {
        "id": "FOqWbIUxKIuA",
        "outputId": "9e67fb08-ae49-48e0-f95a-aa731ae2b298",
        "colab": {
          "base_uri": "https://localhost:8080/"
        }
      },
      "execution_count": 9,
      "outputs": [
        {
          "output_type": "stream",
          "name": "stdout",
          "text": [
            "Edge : Weight\n",
            "A -> B: 10\n",
            "B -> D: 5\n",
            "D -> E: 8\n",
            "E -> C: 6\n"
          ]
        }
      ]
    },
    {
      "cell_type": "code",
      "source": [
        "## Prims and Kushkal Differences.\n"
      ],
      "metadata": {
        "id": "qP5svm6ZKSHL"
      },
      "execution_count": null,
      "outputs": []
    },
    {
      "cell_type": "markdown",
      "source": [
        "# 6-Greedy Algorithms"
      ],
      "metadata": {
        "id": "7RljVr5vKS_1"
      }
    },
    {
      "cell_type": "code",
      "source": [
        "#Activity Selection Problem\n",
        "#   Created by Elshad Karimov\n",
        "#   Copyright © AppMillers. All rights reserved.\n",
        "\n",
        "# Activity Selection Problem  in Python\n",
        "\n",
        "activities = [[\"A1\", 0, 6],\n",
        "              [\"A2\", 3, 4],\n",
        "              [\"A3\", 1, 2],\n",
        "              [\"A4\", 5, 8],\n",
        "              [\"A5\", 5, 7],\n",
        "              [\"A6\", 8, 9]\n",
        "                ]\n",
        "\n",
        "\n",
        "def printMaxActivities(activities):\n",
        "    activities.sort(key=lambda x: x[2])\n",
        "    i = 0\n",
        "    firstA = activities[i][0]\n",
        "    print(firstA)\n",
        "    for j in range(len(activities)):\n",
        "        if activities[j][1] > activities[i][2]:\n",
        "            print(activities[j][0])\n",
        "            i = j\n",
        "\n",
        "printMaxActivities(activities)\n",
        "\n",
        "\n"
      ],
      "metadata": {
        "id": "-CMs6BL9KVS4",
        "outputId": "141852f3-ae19-4833-f2f5-78667656e41d",
        "colab": {
          "base_uri": "https://localhost:8080/"
        }
      },
      "execution_count": 12,
      "outputs": [
        {
          "output_type": "stream",
          "name": "stdout",
          "text": [
            "A3\n",
            "A2\n",
            "A5\n",
            "A6\n"
          ]
        }
      ]
    },
    {
      "cell_type": "code",
      "source": [
        "#   Created by Elshad Karimov\n",
        "#   Copyright © AppMillers. All rights reserved.\n",
        "\n",
        "# Coin Change Problem  in Python\n",
        "\n",
        "\n",
        "def coinChange(totalNumber, coins):\n",
        "    N = totalNumber\n",
        "    coins.sort()\n",
        "    index = len(coins)-1\n",
        "    while True:\n",
        "        coinValue = coins[index]\n",
        "        if N >= coinValue:\n",
        "            print(coinValue)\n",
        "            N = N - coinValue\n",
        "        if N < coinValue:\n",
        "            index -= 1\n",
        "\n",
        "        if N == 0:\n",
        "            break\n",
        "\n",
        "coins = [1,2,5,20,50,100]\n",
        "coinChange(201, coins)\n"
      ],
      "metadata": {
        "id": "RzpoYtswX5U3"
      },
      "execution_count": null,
      "outputs": []
    },
    {
      "cell_type": "code",
      "source": [
        "#   Created by Elshad Karimov\n",
        "#   Copyright © AppMillers. All rights reserved.\n",
        "\n",
        "# Fractional Knapsack Problem  in Python\n",
        "\n",
        "class Item:\n",
        "    def __init__(self, weight, value):\n",
        "        self.weight = weight\n",
        "        self.value = value\n",
        "        self.ratio = value / weight\n",
        "\n",
        "def knapsackMethod(items, capacity):\n",
        "    items.sort(key=lambda x: x.ratio, reverse = True)\n",
        "    usedCapacity = 0\n",
        "    totalValue = 0\n",
        "    for i in items:\n",
        "        if usedCapacity + i.weight <= capacity:\n",
        "            usedCapacity += i.weight\n",
        "            totalValue += i.value\n",
        "        else:\n",
        "            unusedWeight = capacity - usedCapacity\n",
        "            value = i.ratio * unusedWeight\n",
        "            usedCapacity += unusedWeight\n",
        "            totalValue += value\n",
        "\n",
        "        if usedCapacity == capacity:\n",
        "            break\n",
        "    print(\"Total value obtained: \"+str(totalValue))\n",
        "\n",
        "item1 = Item(20,100)\n",
        "item2 = Item(30,120)\n",
        "item3 = Item(10,60)\n",
        "cList = [item1, item2, item3]\n",
        "\n",
        "knapsackMethod(cList, 50)"
      ],
      "metadata": {
        "id": "trb5CC_BY4sm",
        "outputId": "9f4e6d26-f4e1-4dbe-a5ff-1a3838aeff4e",
        "colab": {
          "base_uri": "https://localhost:8080/"
        }
      },
      "execution_count": 13,
      "outputs": [
        {
          "output_type": "stream",
          "name": "stdout",
          "text": [
            "Total value obtained: 240.0\n"
          ]
        }
      ]
    }
  ],
  "metadata": {
    "colab": {
      "provenance": [],
      "toc_visible": true
    },
    "kernelspec": {
      "display_name": "Python 3",
      "name": "python3"
    }
  },
  "nbformat": 4,
  "nbformat_minor": 0
}