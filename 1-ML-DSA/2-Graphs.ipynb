{
  "cells": [
    {
      "cell_type": "markdown",
      "metadata": {
        "id": "ao0SzukUF075"
      },
      "source": [
        "https://github.com/skchandrappa/dsa-cookbook.git\n",
        "\n"
      ]
    },
    {
      "cell_type": "markdown",
      "source": [
        "# 1- Create a Graph with Adjacency matrix and traverse BFS / DFS."
      ],
      "metadata": {
        "id": "lYqpwXFMGHDO"
      }
    },
    {
      "cell_type": "code",
      "source": [
        "\"\"\"\n",
        "### Create a class of Graph with attributes graph Dict and methods : add vertex , add edge, traverse and display, remove.\n",
        "\n",
        "{\n",
        "  \"a\": [\"b\", \"c\"],\n",
        "  \"b\": [\"a\", \"d\"],\n",
        "  \"c\": [\"a\", \"d\"],\n",
        "  \"d\": [\"e\"],\n",
        "  \"e\": [\"d\"]\n",
        "}\n",
        "\n",
        "Notes :\n",
        "  BFS Vs DFS : When target is close to startting point - BFS Buried deep - DFS\n",
        "\n",
        "\"\"\"\n",
        "\n",
        "class Graph:\n",
        "  def __init__(self):\n",
        "    self.graph = {}\n",
        "\n",
        "  ### If pressent in the list do not add else add.\n",
        "  def add_vertex(self, vertex):\n",
        "    if vertex not in self.graph.keys():\n",
        "      self.graph[vertex] = []\n",
        "      return True\n",
        "    return False\n",
        "\n",
        "  def print_graph(self):\n",
        "    for vertex in self.graph:\n",
        "      print(vertex,\"\",self.graph[vertex])\n",
        "\n",
        "  def add_edge(self, v1, v2):\n",
        "    if v1 in self.graph.keys() and v2 in self.graph.keys():\n",
        "      self.graph[v1].append(v2)\n",
        "      self.graph[v2].append(v1)\n",
        "      return True\n",
        "    return False\n",
        "\n",
        "  def remove_edge(self, v1, v2):\n",
        "    if v1 in self.graph.keys() and v2 in self.graph.keys():\n",
        "      try:\n",
        "        self.graph[v1].remove(v2)\n",
        "        self.graph[v2].remove(v1)\n",
        "      except ValueError:\n",
        "        pass\n",
        "        return True\n",
        "    return False\n",
        "\n",
        "  ### BFS search\n",
        "  def bfs(self, starting_vertex):\n",
        "    visited = []\n",
        "    queue = [starting_vertex]\n",
        "\n",
        "    while queue:\n",
        "      vertex = queue.pop(0)\n",
        "      if vertex not in visited:\n",
        "        visited.append(vertex)\n",
        "        queue.extend(self.graph[vertex])\n",
        "\n",
        "    return visited\n",
        "\n",
        "  ### DFS search\n",
        "  def dfs(self, starting_vertex):\n",
        "    visited = []\n",
        "    stack = [starting_vertex]\n",
        "\n",
        "    while stack:\n",
        "      vertex = stack.pop()\n",
        "      if vertex not in visited:\n",
        "        visited.append(vertex)\n",
        "        stack.extend(self.graph[vertex])\n",
        "    return visited\n",
        "\n",
        "custom_graph = Graph()\n",
        "# custom_graph.add_vertex(\"a\")\n",
        "# custom_graph.add_vertex(\"b\")\n",
        "# custom_graph.print_graph()\n",
        "# custom_graph.add_edge(\"a\", \"b\")\n",
        "# custom_graph.print_graph()\n",
        "# print(custom_graph.bfs(\"b\"))\n",
        "\n",
        "input_path = [(\"sfo\",\"las\"),(\"las\",\"lvs\"),(\"lvs\",\"slc\"),(\"slc\",\"las\"),(\"las\",\"dfw\"),(\"dfw\",\"jfk\")]\n",
        "\n",
        "for i in range(len(input_path)):\n",
        "  custom_graph.add_vertex(input_path[i][0])\n",
        "  custom_graph.add_vertex(input_path[i][1])\n",
        "\n",
        "for i in range(len(input_path)):\n",
        "  custom_graph.add_edge(input_path[i][0], input_path[i][1])\n",
        "\n",
        "custom_graph.print_graph()\n",
        "print(custom_graph.bfs(\"sfo\"))\n"
      ],
      "metadata": {
        "id": "RUoNvLyJXLGV",
        "outputId": "51420753-aba8-46e7-8ef5-b390e1f2b131",
        "colab": {
          "base_uri": "https://localhost:8080/"
        }
      },
      "execution_count": 1,
      "outputs": [
        {
          "output_type": "stream",
          "name": "stdout",
          "text": [
            "sfo  ['las']\n",
            "las  ['sfo', 'lvs', 'slc', 'dfw']\n",
            "lvs  ['las', 'slc']\n",
            "slc  ['lvs', 'las']\n",
            "dfw  ['las', 'jfk']\n",
            "jfk  ['dfw']\n",
            "['sfo', 'las', 'lvs', 'slc', 'dfw', 'jfk']\n"
          ]
        }
      ]
    },
    {
      "cell_type": "markdown",
      "source": [
        "# 2-Topological Sort : LLM Command Graph from a json - Basic."
      ],
      "metadata": {
        "id": "6KDmONrxGLd4"
      }
    },
    {
      "cell_type": "code",
      "source": [
        "\n",
        "from collections import defaultdict\n",
        "\n",
        "class Graph:\n",
        "    def __init__(self, numberofVertices):\n",
        "        self.graph = defaultdict(list)\n",
        "\n",
        "    def addEdge(self, vertex, edge):\n",
        "        self.graph[vertex].append(edge)\n",
        "\n",
        "    def printgraph(self):\n",
        "        for vertex in self.graph:\n",
        "            print(vertex, \" -> \", self.graph[vertex])\n",
        "\n",
        "    def topogologicalSortUtil(self, v, visited, stack):\n",
        "        # for child of the vertex, set vetex as parent and chck for child to be in visited and add to stack.\n",
        "        visited.append(v)\n",
        "\n",
        "        for i in self.graph[v]:\n",
        "            if i not in visited:\n",
        "                self.topogologicalSortUtil(i, visited, stack)\n",
        "\n",
        "        stack.insert(0, v)\n",
        "\n",
        "    def topologicalSort(self):\n",
        "        visited = []\n",
        "        stack = []\n",
        "\n",
        "        ## for every vertex in the graph perform recursive check.\n",
        "        for k in list(self.graph):\n",
        "\n",
        "            if k not in visited:\n",
        "                self.topogologicalSortUtil(k, visited, stack)\n",
        "\n",
        "        print(stack)\n",
        "\n",
        "\n",
        "data =\n",
        "\n",
        "customGraph = Graph(8)\n",
        "customGraph.addEdge(\"A\", \"B\")\n",
        "customGraph.addEdge(\"A\", \"C\")\n",
        "customGraph.addEdge(\"B\", \"D\")\n",
        "customGraph.addEdge(\"B\", \"E\")\n",
        "customGraph.addEdge(\"C\", \"E\")\n",
        "\n",
        "customGraph.printgraph()\n",
        "customGraph.topologicalSort()"
      ],
      "metadata": {
        "colab": {
          "base_uri": "https://localhost:8080/"
        },
        "id": "VyJobt2lGQus",
        "outputId": "2b6c4c5f-386c-4795-a9c0-aadcf270df6c"
      },
      "execution_count": 25,
      "outputs": [
        {
          "output_type": "stream",
          "name": "stdout",
          "text": [
            "A  ->  ['B', 'C']\n",
            "B  ->  ['D', 'E']\n",
            "C  ->  ['E']\n",
            "['A', 'C', 'B', 'E', 'D']\n"
          ]
        }
      ]
    },
    {
      "cell_type": "code",
      "source": [
        "!pip install genson\n",
        "!pip install networkx\n",
        "!pip install matplotlib"
      ],
      "metadata": {
        "id": "t1nDmwdfz_Si",
        "outputId": "d211c821-66d0-4a20-8420-6b832e9ef07e",
        "colab": {
          "base_uri": "https://localhost:8080/"
        }
      },
      "execution_count": 27,
      "outputs": [
        {
          "output_type": "stream",
          "name": "stdout",
          "text": [
            "Collecting genson\n",
            "  Downloading genson-1.3.0-py3-none-any.whl.metadata (28 kB)\n",
            "Downloading genson-1.3.0-py3-none-any.whl (21 kB)\n",
            "Installing collected packages: genson\n",
            "Successfully installed genson-1.3.0\n",
            "Requirement already satisfied: networkx in /usr/local/lib/python3.10/dist-packages (3.4)\n",
            "Requirement already satisfied: matplotlib in /usr/local/lib/python3.10/dist-packages (3.7.1)\n",
            "Requirement already satisfied: contourpy>=1.0.1 in /usr/local/lib/python3.10/dist-packages (from matplotlib) (1.3.0)\n",
            "Requirement already satisfied: cycler>=0.10 in /usr/local/lib/python3.10/dist-packages (from matplotlib) (0.12.1)\n",
            "Requirement already satisfied: fonttools>=4.22.0 in /usr/local/lib/python3.10/dist-packages (from matplotlib) (4.54.1)\n",
            "Requirement already satisfied: kiwisolver>=1.0.1 in /usr/local/lib/python3.10/dist-packages (from matplotlib) (1.4.7)\n",
            "Requirement already satisfied: numpy>=1.20 in /usr/local/lib/python3.10/dist-packages (from matplotlib) (1.26.4)\n",
            "Requirement already satisfied: packaging>=20.0 in /usr/local/lib/python3.10/dist-packages (from matplotlib) (24.1)\n",
            "Requirement already satisfied: pillow>=6.2.0 in /usr/local/lib/python3.10/dist-packages (from matplotlib) (10.4.0)\n",
            "Requirement already satisfied: pyparsing>=2.3.1 in /usr/local/lib/python3.10/dist-packages (from matplotlib) (3.1.4)\n",
            "Requirement already satisfied: python-dateutil>=2.7 in /usr/local/lib/python3.10/dist-packages (from matplotlib) (2.8.2)\n",
            "Requirement already satisfied: six>=1.5 in /usr/local/lib/python3.10/dist-packages (from python-dateutil>=2.7->matplotlib) (1.16.0)\n"
          ]
        }
      ]
    },
    {
      "cell_type": "code",
      "source": [
        "import json\n",
        "import genson\n",
        "import networkx as nx\n",
        "import matplotlib.pyplot as plt\n",
        "\n",
        "def convert_schema(data):\n",
        "\n",
        "    # Create a schema builder\n",
        "    schema_builder = genson.SchemaBuilder(data)\n",
        "    # Add data to the schema builder\n",
        "    schema_builder.add_object(data )\n",
        "    # Generate the schema\n",
        "\n",
        "    return schema_builder.to_schema()\n",
        "\n",
        "data = {\n",
        "  \"name\": \"John Doe\",\n",
        "  \"age\": 30,\n",
        "  \"weight\":26.3456,\n",
        "  \"is_student\": True,\n",
        "  \"hobbies\": [\"reading\", \"coding\", \"traveling\"],  ### create a line with add Button and repeat if not Json else drop down list.\n",
        "  \"address\": {\n",
        "    \"street\": \"123 Main St\",\n",
        "    \"city\": \"Anytown\",\n",
        "    \"state\": \"CA\",\n",
        "    \"zip\": 12345\n",
        "  },\n",
        "  \"favorite_color\": '',\n",
        "  \"last_updated\": \"2023-12-31T23:59:59Z\"\n",
        "}\n",
        "\n",
        "schemaJson = convert_schema(data)\n",
        "\n",
        "#print(schemaJson['properties'])\n",
        "## gather all properties and add as vertices.\n",
        "\n",
        "for key,value in schemaJson['properties'].items():\n",
        "    if value[\"type\"] != \"object\":\n",
        "        print(key)\n"
      ],
      "metadata": {
        "id": "IMcPMy4bz5s9",
        "outputId": "27b7634f-c60e-4b28-8fa3-b4f02dbd82dd",
        "colab": {
          "base_uri": "https://localhost:8080/"
        }
      },
      "execution_count": 52,
      "outputs": [
        {
          "output_type": "stream",
          "name": "stdout",
          "text": [
            "name\n",
            "age\n",
            "weight\n",
            "is_student\n",
            "hobbies\n",
            "favorite_color\n",
            "last_updated\n"
          ]
        }
      ]
    }
  ],
  "metadata": {
    "colab": {
      "provenance": [],
      "toc_visible": true
    },
    "kernelspec": {
      "display_name": "Python 3",
      "name": "python3"
    }
  },
  "nbformat": 4,
  "nbformat_minor": 0
}