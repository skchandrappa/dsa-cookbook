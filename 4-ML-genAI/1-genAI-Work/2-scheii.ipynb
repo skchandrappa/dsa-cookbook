{
  "cells": [
    {
      "cell_type": "markdown",
      "metadata": {
        "id": "ao0SzukUF075"
      },
      "source": [
        "https://github.com/skchandrappa/dsa-cookbook.git\n",
        "\n"
      ]
    },
    {
      "cell_type": "markdown",
      "source": [
        "# Graph Implementation"
      ],
      "metadata": {
        "id": "GaLBYYRlJ9gX"
      }
    },
    {
      "cell_type": "code",
      "source": [
        "!pip install genson"
      ],
      "metadata": {
        "colab": {
          "base_uri": "https://localhost:8080/"
        },
        "id": "0levYKegeQ9h",
        "outputId": "5bdb6044-16a1-4b32-c9c8-2fb8c54ff8da"
      },
      "execution_count": 6,
      "outputs": [
        {
          "output_type": "stream",
          "name": "stdout",
          "text": [
            "Collecting genson\n",
            "  Downloading genson-1.3.0-py3-none-any.whl.metadata (28 kB)\n",
            "Downloading genson-1.3.0-py3-none-any.whl (21 kB)\n",
            "Installing collected packages: genson\n",
            "Successfully installed genson-1.3.0\n"
          ]
        }
      ]
    },
    {
      "cell_type": "code",
      "source": [
        "class edge:\n",
        "  def __init__(self,start,weight,end):\n",
        "    self.start=start\n",
        "    self.weight=weight\n",
        "    self.end=end\n",
        "\n",
        "class node:\n",
        "  def __init__(self,name,dtype):\n",
        "    self.name=name\n",
        "    self.dtype=dtype\n",
        "    self.neighors=[]\n",
        "    self.visited=False\n",
        "    self.predecessor=None\n",
        "    self.distance=0\n",
        "\n",
        "  def add_edge(self,weight,end):\n",
        "    self.neighors.append(edge(self,weight,end))\n",
        "\n",
        "  def __str__(self):\n",
        "    return self.name\n",
        "\n",
        "  def printGraph(self):\n",
        "    visited = []\n",
        "    queue = [self]\n",
        "\n",
        "    print(self.name)\n",
        "\n",
        "    while queue:\n",
        "      vertex = queue.pop(0)\n",
        "      print(vertex.name,\":\",vertex.dtype)\n",
        "      if vertex.name not in visited:\n",
        "    #     print(vertex.name)\n",
        "        visited.append(vertex.name)\n",
        "        for edge in vertex.neighors:\n",
        "          queue.append(edge.end)"
      ],
      "metadata": {
        "id": "BOIzDzRqJ6yf"
      },
      "execution_count": 7,
      "outputs": []
    },
    {
      "cell_type": "markdown",
      "source": [
        "# Schema Graph"
      ],
      "metadata": {
        "id": "DB05cNAaJEAM"
      }
    },
    {
      "cell_type": "code",
      "source": [
        "import json\n",
        "import genson\n",
        "import networkx as nx\n",
        "import matplotlib.pyplot as plt\n",
        "\n",
        "class schemaGraph:\n",
        "  def __init__(self,data):\n",
        "    self.data=data\n",
        "\n",
        "\n",
        "  def convert_schema(data):\n",
        "\n",
        "      # Create a schema builder.\n",
        "      # Add data to the schema builder.\n",
        "      # Generate the schema.\n",
        "\n",
        "      schema_builder = genson.SchemaBuilder(data)\n",
        "      schema_builder.add_object(data )\n",
        "      return schema_builder.to_schema()\n",
        "\n",
        "  def loadSchematoGraph(self,startNode,properties):\n",
        "\n",
        "    def loadrSchematoGraph(startNode,properties):\n",
        "      for key,value in properties.items():\n",
        "        if value[\"type\"] != \"object\":\n",
        "            new_node = node(key,value['type'])\n",
        "            startNode.add_edge(0,new_node)\n",
        "        else:\n",
        "            new_node = node(key,value['type'])\n",
        "            startNode.add_edge(0,new_node)\n",
        "            loadrSchematoGraph(new_node,value[\"properties\"])\n",
        "\n",
        "    loadrSchematoGraph(startNode,properties)\n",
        "\n",
        "\n",
        "data = {\n",
        "  \"name\": \"John Doe\",\n",
        "  \"age\": 30,\n",
        "  \"weight\":26.3456,\n",
        "  \"is_student\": True,\n",
        "  \"hobbies\": [\"reading\", \"coding\", \"traveling\"],  ### create a line with add Button and repeat if not Json else drop down list.\n",
        "  \"address\": {\n",
        "    \"street\": \"123 Main St\",\n",
        "    \"city\": \"Anytown\",\n",
        "    \"state\": \"CA\",\n",
        "    \"zip\": 12345\n",
        "  },\n",
        "  \"favorite_color\": '',\n",
        "  \"last_updated\": \"2023-12-31T23:59:59Z\"\n",
        "}\n",
        "\n",
        "schema = schemaGraph(data)\n",
        "schema1 = schemaGraph.convert_schema(data)\n",
        "props = schema1['properties']\n",
        "startNode = node(\"root\",\"schema\")\n",
        "schema.loadSchematoGraph(startNode,props)\n",
        "startNode.printGraph()\n"
      ],
      "metadata": {
        "id": "2B2_A0ggV03z",
        "colab": {
          "base_uri": "https://localhost:8080/"
        },
        "outputId": "ebcd4143-8431-40f7-e326-c6510a7f0b7d"
      },
      "execution_count": 8,
      "outputs": [
        {
          "output_type": "stream",
          "name": "stdout",
          "text": [
            "root\n",
            "root : schema\n",
            "name : string\n",
            "age : integer\n",
            "weight : number\n",
            "is_student : boolean\n",
            "hobbies : array\n",
            "address : object\n",
            "favorite_color : string\n",
            "last_updated : string\n",
            "street : string\n",
            "city : string\n",
            "state : string\n",
            "zip : integer\n"
          ]
        }
      ]
    },
    {
      "cell_type": "markdown",
      "source": [
        "# Structure Graph\n"
      ],
      "metadata": {
        "id": "VbC8A7S-JLbF"
      }
    },
    {
      "cell_type": "code",
      "source": [
        "import requests\n",
        "import networkx as nx\n",
        "import json\n",
        "import os\n",
        "\n",
        "def create_github_directory_graph(repo_owner, repo_name, token):\n",
        "    \"\"\"\n",
        "    Creates a NetworkX graph representing the directory structure of a GitHub repository.\n",
        "\n",
        "    Args:\n",
        "        repo_owner: The owner of the GitHub repository.\n",
        "        repo_name: The name of the GitHub repository.\n",
        "        token: A personal access token for GitHub API authentication.\n",
        "\n",
        "    Returns:\n",
        "        A NetworkX DiGraph object representing the directory structure.\n",
        "    \"\"\"\n",
        "\n",
        "    G = nx.DiGraph()\n",
        "    url = f\"https://api.github.com/repos/{repo_owner}/{repo_name}/contents/\"\n",
        "    headers = {\"Authorization\": f\"token {token}\"}\n",
        "\n",
        "    def fetch_contents(url):\n",
        "        response = requests.get(url, headers=headers)\n",
        "        if response.status_code == 200:\n",
        "            contents = json.loads(response.text)\n",
        "            for item in contents:\n",
        "                if item[\"type\"] == \"dir\":\n",
        "                    G.add_node(item[\"path\"])\n",
        "                    if item[\"path\"] != \"\":\n",
        "                        parent_dir = os.path.dirname(item[\"path\"])\n",
        "                        G.add_edge(parent_dir, item[\"path\"])\n",
        "                    fetch_contents(item[\"url\"])\n",
        "\n",
        "    fetch_contents(url)\n",
        "    return G\n",
        "\n",
        "# Example usage:\n",
        "repo_owner = \"your_username\"\n",
        "repo_name = \"your_repository_name\"\n",
        "token = \"your_personal_access_token\"\n",
        "\n",
        "graph = create_github_directory_graph(repo_owner, repo_name, token)\n",
        "\n",
        "# Visualize the graph (optional)\n",
        "import matplotlib.pyplot as plt\n",
        "nx.draw_networkx(graph, with_labels=True, node_size=500, node_color='skyblue', font_size=10)\n",
        "plt.show()"
      ],
      "metadata": {
        "id": "kzbvjJ2nJNo8",
        "colab": {
          "base_uri": "https://localhost:8080/",
          "height": 406
        },
        "outputId": "bc071a97-c483-41d3-c752-72085e37f661"
      },
      "execution_count": null,
      "outputs": [
        {
          "output_type": "display_data",
          "data": {
            "text/plain": [
              "<Figure size 640x480 with 1 Axes>"
            ],
            "image/png": "[encoded data removed]"
          },
          "metadata": {}
        }
      ]
    },
    {
      "cell_type": "markdown",
      "source": [
        "# Command Graph."
      ],
      "metadata": {
        "id": "LQtSsAANJSLV"
      }
    },
    {
      "cell_type": "code",
      "source": [],
      "metadata": {
        "id": "axGPYMJRJUT8"
      },
      "execution_count": null,
      "outputs": []
    },
    {
      "cell_type": "markdown",
      "source": [
        "# LLM Pings and resultset."
      ],
      "metadata": {
        "id": "s3CjuuujJcnA"
      }
    },
    {
      "cell_type": "code",
      "source": [
        "from openai import OpenAI\n",
        "from google.colab import userdata\n",
        "\n",
        "system_message =  \"You are a helpful assistant for a ReactJS coder\"\n",
        "system_message += \"give answers as modules that can be used with export\"\n",
        "system_message += \"Always be accurate. If you don't know the answer, say so.\"\n",
        "\n",
        "def user_prompt_for(title,text):\n",
        "    user_prompt = f\"You are looking at a website titled {title}\"\n",
        "    user_prompt += \"The contents of this website is as follows; please find any value about APY, Terms rewards and respond as as JSON with following format {'apy':'','fees':''}. ignore anything else.\\n\\n\"\n",
        "    user_prompt += text\n",
        "    return user_prompt\n",
        "\n",
        "def messages_for(content):\n",
        "    return [\n",
        "        {\"role\": \"system\", \"content\": system_message},\n",
        "        {\"role\": \"user\", \"content\": content}\n",
        "    ]\n",
        "\n",
        "def codebits(content):\n",
        "    # searpApiKey = getApiKeys()\n",
        "    # api_key = searpApiKey.getApiKeys('openAIAPIKey')\n",
        "\n",
        "    openai = OpenAI(api_key=userdata.get('OPENAI_API_KEY'))\n",
        "\n",
        "    # user_prompt = user_prompt_for(content,contents[content])\n",
        "    messages = messages_for(content)\n",
        "\n",
        "    response = openai.chat.completions.create(\n",
        "        model = \"gpt-4o-mini\",\n",
        "        messages = messages\n",
        "    )\n",
        "    # responses.append(response.choices[0].message.content)\n",
        "    return response\n",
        "\n"
      ],
      "metadata": {
        "id": "olO5ORuIJeQX"
      },
      "execution_count": 15,
      "outputs": []
    },
    {
      "cell_type": "code",
      "source": [
        "import json\n",
        "prompt = \"return a reactjs code for: \"+str(schema1)\n",
        "response  = codebits(prompt)\n",
        "print(response.choices[0].message.content)"
      ],
      "metadata": {
        "id": "0yO-M3ozJ-7O",
        "outputId": "f42d2f68-492e-415e-c50c-ccdf2a8afff3",
        "colab": {
          "base_uri": "https://localhost:8080/"
        }
      },
      "execution_count": 21,
      "outputs": [
        {
          "output_type": "stream",
          "name": "stdout",
          "text": [
            "```javascript\n",
            "import React from 'react';\n",
            "\n",
            "// The schema representing the user data\n",
            "const userSchema = {\n",
            "  '$schema': {\n",
            "    'name': 'John Doe',\n",
            "    'age': 30,\n",
            "    'weight': 26.3456,\n",
            "    'is_student': true,\n",
            "    'hobbies': ['reading', 'coding', 'traveling'],\n",
            "    'address': {\n",
            "      'street': '123 Main St',\n",
            "      'city': 'Anytown',\n",
            "      'state': 'CA',\n",
            "      'zip': 12345\n",
            "    },\n",
            "    'favorite_color': '',\n",
            "    'last_updated': '2023-12-31T23:59:59Z'\n",
            "  },\n",
            "  'type': 'object',\n",
            "  'properties': {\n",
            "    'name': { 'type': 'string' },\n",
            "    'age': { 'type': 'integer' },\n",
            "    'weight': { 'type': 'number' },\n",
            "    'is_student': { 'type': 'boolean' },\n",
            "    'hobbies': { 'type': 'array', 'items': { 'type': 'string' } },\n",
            "    'address': {\n",
            "      'type': 'object',\n",
            "      'properties': {\n",
            "        'street': { 'type': 'string' },\n",
            "        'city': { 'type': 'string' },\n",
            "        'state': { 'type': 'string' },\n",
            "        'zip': { 'type': 'integer' }\n",
            "      },\n",
            "      'required': ['city', 'state', 'street', 'zip']\n",
            "    },\n",
            "    'favorite_color': { 'type': 'string' },\n",
            "    'last_updated': { 'type': 'string' }\n",
            "  },\n",
            "  'required': ['address', 'age', 'favorite_color', 'hobbies', 'is_student', 'last_updated', 'name', 'weight']\n",
            "};\n",
            "\n",
            "// A simple React component that displays the user data based on the schema\n",
            "const UserProfile = () => {\n",
            "  const {\n",
            "    name,\n",
            "    age,\n",
            "    weight,\n",
            "    is_student,\n",
            "    hobbies,\n",
            "    address,\n",
            "    favorite_color,\n",
            "    last_updated\n",
            "  } = userSchema.$schema;\n",
            "\n",
            "  return (\n",
            "    <div>\n",
            "      <h1>User Profile</h1>\n",
            "      <p><strong>Name:</strong> {name}</p>\n",
            "      <p><strong>Age:</strong> {age}</p>\n",
            "      <p><strong>Weight:</strong> {weight.toFixed(2)} kg</p>\n",
            "      <p><strong>Is Student:</strong> {is_student ? 'Yes' : 'No'}</p>\n",
            "      <p><strong>Hobbies:</strong> {hobbies.join(', ')}</p>\n",
            "      <h3>Address</h3>\n",
            "      <p><strong>Street:</strong> {address.street}</p>\n",
            "      <p><strong>City:</strong> {address.city}</p>\n",
            "      <p><strong>State:</strong> {address.state}</p>\n",
            "      <p><strong>Zip:</strong> {address.zip}</p>\n",
            "      <p><strong>Favorite Color:</strong> {favorite_color || 'Not specified'}</p>\n",
            "      <p><strong>Last Updated:</strong> {new Date(last_updated).toLocaleString()}</p>\n",
            "    </div>\n",
            "  );\n",
            "};\n",
            "\n",
            "export default UserProfile;\n",
            "```\n"
          ]
        }
      ]
    },
    {
      "cell_type": "markdown",
      "source": [
        "# UI Design Principle and standards Enhancement."
      ],
      "metadata": {
        "id": "wXpwibh4JOQt"
      }
    },
    {
      "cell_type": "code",
      "source": [],
      "metadata": {
        "id": "tBlekAf4JRs1"
      },
      "execution_count": null,
      "outputs": []
    },
    {
      "cell_type": "markdown",
      "source": [
        "# Github Upload"
      ],
      "metadata": {
        "id": "xF5n_UUjJmql"
      }
    },
    {
      "cell_type": "code",
      "source": [],
      "metadata": {
        "id": "KOJ2KtkZJoPT"
      },
      "execution_count": null,
      "outputs": []
    }
  ],
  "metadata": {
    "colab": {
      "provenance": []
    },
    "kernelspec": {
      "display_name": "Python 3",
      "name": "python3"
    }
  },
  "nbformat": 4,
  "nbformat_minor": 0
}