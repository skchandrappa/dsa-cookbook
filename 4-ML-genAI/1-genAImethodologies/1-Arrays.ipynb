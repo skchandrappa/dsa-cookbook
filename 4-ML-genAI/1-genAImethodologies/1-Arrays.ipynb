{
  "cells": [
    {
      "cell_type": "markdown",
      "metadata": {
        "id": "ao0SzukUF075"
      },
      "source": [
        "https://github.com/skchandrappa/dsa-cookbook.git\n"
      ]
    },
    {
      "cell_type": "markdown",
      "source": [],
      "metadata": {
        "id": "l-OO-KybDk9Y"
      }
    },
    {
      "cell_type": "code",
      "source": [
        "! pip install python-dotenv"
      ],
      "metadata": {
        "id": "PJW9GlxbldIz",
        "outputId": "b790a67e-c34c-48ce-9aee-be9b430a04c5",
        "colab": {
          "base_uri": "https://localhost:8080/"
        }
      },
      "execution_count": 23,
      "outputs": [
        {
          "output_type": "stream",
          "name": "stdout",
          "text": [
            "Requirement already satisfied: python-dotenv in /usr/local/lib/python3.10/dist-packages (1.0.1)\n"
          ]
        }
      ]
    },
    {
      "cell_type": "code",
      "source": [
        "import os\n",
        "import requests\n",
        "from dotenv import load_dotenv\n",
        "from bs4 import BeautifulSoup\n",
        "from IPython.display import Markdown, display\n",
        "from openai import OpenAI\n",
        "\n",
        "\n",
        "\n",
        "class Website:\n",
        "  url : str\n",
        "  title: str\n",
        "  text : str\n",
        "\n",
        "  def __init__(self, url: str):\n",
        "    self.url = url\n",
        "\n",
        "    response = requests.get(url)\n",
        "    soup = BeautifulSoup(response.text, 'html.parser')\n",
        "    self.title = soup.title.string if soup.title else None\n",
        "\n",
        "    for irrelevant in soup.body([\"script\", \"style\",\"img\",\"input\"]):\n",
        "      irrelevant.decompose()\n",
        "\n",
        "    self.text = soup.body.get_text(separator=\"\\n\", strip=True)\n",
        "\n"
      ],
      "metadata": {
        "id": "o78zY7pPaAc1"
      },
      "execution_count": 24,
      "outputs": []
    },
    {
      "cell_type": "code",
      "source": [
        "# ndtv = Website(\"https://www.ndtv.com/\")\n",
        "# # print(ndtv.title)\n",
        "# # print(ndtv.text)"
      ],
      "metadata": {
        "id": "ykf9KaGvl7ML"
      },
      "execution_count": 25,
      "outputs": []
    },
    {
      "cell_type": "code",
      "source": [
        "load_dotenv()\n",
        "api_key = 'KEY'\n",
        "print(api_key)\n",
        "# Check the key\n",
        "\n",
        "if not api_key:\n",
        "    print(\"No API key was found - please head over to the troubleshooting notebook in this folder to identify & fix!\")\n",
        "elif api_key[:8]!=\"sk-proj-\":\n",
        "    print(\"An API key was found, but it doesn't start sk-proj-; please check you're using the right key\")\n",
        "elif api_key.strip() != api_key:\n",
        "    print(\"An API key was found, but it looks like it might have space or tab characters at the start or end - please remove them\")\n",
        "else:\n",
        "    print(\"API key found and looks good so far!\")"
      ],
      "metadata": {
        "id": "hnaXXLCf0b7a",
        "outputId": "e712e2ab-e45f-4f20-c228-ee50373e7aaa",
        "colab": {
          "base_uri": "https://localhost:8080/"
        }
      },
      "execution_count": 47,
      "outputs": [
        {
          "output_type": "stream",
          "name": "stdout",
          "text": [
            "KEY\n",
            "An API key was found, but it doesn't start sk-proj-; please check you're using the right key\n"
          ]
        }
      ]
    },
    {
      "cell_type": "code",
      "source": [
        "openai = OpenAI(api_key=api_key)"
      ],
      "metadata": {
        "id": "Uae9DJowpLOX"
      },
      "execution_count": 41,
      "outputs": []
    },
    {
      "cell_type": "code",
      "source": [
        "# Define our system prompt - you can experiment with this later, changing the last sentence to 'Respond in markdown in Spanish.\"\n",
        "\n",
        "system_prompt = \"You are an assistant that analyzes the contents of a website \\\n",
        "and provides a short summary, ignoring text that might be navigation related. \\\n",
        "Respond in markdown.\""
      ],
      "metadata": {
        "id": "KFbB8s0jCbaP"
      },
      "execution_count": 42,
      "outputs": []
    },
    {
      "cell_type": "code",
      "source": [
        "def user_prompt_for(website):\n",
        "    user_prompt = f\"You are looking at a website titled {website.title}\"\n",
        "    user_prompt += \"The contents of this website is as follows; \\\n",
        "please provide a short summary of this website in markdown. \\\n",
        "If it includes news or announcements, then summarize these too.\\n\\n\"\n",
        "    user_prompt += website.text\n",
        "    return user_prompt"
      ],
      "metadata": {
        "id": "nnY_naWGCvi9"
      },
      "execution_count": 43,
      "outputs": []
    },
    {
      "cell_type": "code",
      "source": [
        "def messages_for(website):\n",
        "    return [\n",
        "        {\"role\": \"system\", \"content\": system_prompt},\n",
        "        {\"role\": \"user\", \"content\": user_prompt_for(website)}\n",
        "    ]"
      ],
      "metadata": {
        "id": "et_I4frdC2wR"
      },
      "execution_count": 44,
      "outputs": []
    },
    {
      "cell_type": "code",
      "source": [
        "import time\n",
        "def summarize(url):\n",
        "    website = Website(url)\n",
        "    try:\n",
        "      response = openai.chat.completions.create(\n",
        "          model = \"gpt-4o-mini\",\n",
        "          messages = messages_for(website)\n",
        "      )\n",
        "      return response.choices[0].message.content\n",
        "    except openai.error.RateLimitError:\n",
        "      print(\"Rate limit exceeded. Waiting for 60 seconds...\")\n",
        "      time.sleep(60)  # Wait for 60 seconds before retrying\n",
        "      return summarize(url)"
      ],
      "metadata": {
        "id": "9j2hGn9iC7DF"
      },
      "execution_count": 45,
      "outputs": []
    },
    {
      "cell_type": "code",
      "source": [
        "summarize(\"https://www.ndtv.com/\")"
      ],
      "metadata": {
        "id": "FcNyUKF-DH4U",
        "outputId": "00c6b594-acf5-4ddd-eb38-587ad84a5b92",
        "colab": {
          "base_uri": "https://localhost:8080/",
          "height": 146
        }
      },
      "execution_count": 46,
      "outputs": [
        {
          "output_type": "execute_result",
          "data": {
            "text/plain": [
              "\"# NDTV.com Summary\\n\\nNDTV.com is a prominent news website in India that provides the latest reports on national and international events, covering a wide range of topics including politics, sports, entertainment, education, and health. \\n\\n## Key News Highlights\\n- **Air India and Vistara Merger**: The first flight of the integrated Air India-Vistara is set to operate on Tuesday.\\n- **Kerala Police Controversy**: Actor Siddique claims the Kerala Police are fabricating stories in a sex assault case.\\n- **Tejashwi Yadav's Critique**: Tejashwi Yadav criticizes Nitish Kumar for misappropriating Mahatma Gandhi's name for political gains.\\n- **Haryana Stubble Burning Policy**: The state has doubled fines for stubble burning, accumulating Rs 1.65 lakh in penalties.\\n- **Weather Update**: Kashmir experiences its first snowfall of the season, ending a prolonged dry spell.\\n\\n## Education Updates\\n- **Delhi University Elections**: The Delhi High Court has mandated the announcement of DU's student union election results by November 26.\\n- **Jammu and Kashmir Board**: Private and bi-annual results for Class 10 will be announced soon.\\n- **IIM Kozhikode Program**: A new management program tailored for working professionals has been launched by IIM Kozhikode.\\n\\nThis website serves as a central hub for breaking news and updates, providing comprehensive coverage and analyses of significant developments in India and abroad.\""
            ],
            "application/vnd.google.colaboratory.intrinsic+json": {
              "type": "string"
            }
          },
          "metadata": {},
          "execution_count": 46
        }
      ]
    },
    {
      "cell_type": "code",
      "source": [],
      "metadata": {
        "id": "6WnakULEDTh4"
      },
      "execution_count": 39,
      "outputs": []
    },
    {
      "cell_type": "code",
      "source": [],
      "metadata": {
        "id": "GDMkiz-iGY5S"
      },
      "execution_count": null,
      "outputs": []
    }
  ],
  "metadata": {
    "colab": {
      "provenance": [],
      "toc_visible": true
    },
    "kernelspec": {
      "display_name": "Python 3",
      "name": "python3"
    }
  },
  "nbformat": 4,
  "nbformat_minor": 0
}