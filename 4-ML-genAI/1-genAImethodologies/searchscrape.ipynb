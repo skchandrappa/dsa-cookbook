{
  "cells": [
    {
      "cell_type": "code",
      "source": [
        "# #### Pre Installs\n",
        "# import os\n",
        "# os.environ['openAIAPIKey'] = ''\n",
        "# os.environ['serpAPIKey'] = ''\n",
        "!pip install google-search-results"
      ],
      "metadata": {
        "colab": {
          "base_uri": "https://localhost:8080/"
        },
        "id": "QhApqbbXAupk",
        "outputId": "39c753fc-30a9-4889-ebdd-80428100aa00"
      },
      "execution_count": 20,
      "outputs": [
        {
          "output_type": "stream",
          "name": "stdout",
          "text": [
            "Collecting google-search-results\n",
            "  Downloading google_search_results-2.4.2.tar.gz (18 kB)\n",
            "  Preparing metadata (setup.py) ... \u001b[?25l\u001b[?25hdone\n",
            "Requirement already satisfied: requests in /usr/local/lib/python3.10/dist-packages (from google-search-results) (2.32.3)\n",
            "Requirement already satisfied: charset-normalizer<4,>=2 in /usr/local/lib/python3.10/dist-packages (from requests->google-search-results) (3.4.0)\n",
            "Requirement already satisfied: idna<4,>=2.5 in /usr/local/lib/python3.10/dist-packages (from requests->google-search-results) (3.10)\n",
            "Requirement already satisfied: urllib3<3,>=1.21.1 in /usr/local/lib/python3.10/dist-packages (from requests->google-search-results) (2.2.3)\n",
            "Requirement already satisfied: certifi>=2017.4.17 in /usr/local/lib/python3.10/dist-packages (from requests->google-search-results) (2024.8.30)\n",
            "Building wheels for collected packages: google-search-results\n",
            "  Building wheel for google-search-results (setup.py) ... \u001b[?25l\u001b[?25hdone\n",
            "  Created wheel for google-search-results: filename=google_search_results-2.4.2-py3-none-any.whl size=32009 sha256=f728504e574e05fd8480d419f0b3d5d6662465b28033a15fcb61ec54153cbcd2\n",
            "  Stored in directory: /root/.cache/pip/wheels/d3/b2/c3/03302d12bb44a2cdff3c9371f31b72c0c4e84b8d2285eeac53\n",
            "Successfully built google-search-results\n",
            "Installing collected packages: google-search-results\n",
            "Successfully installed google-search-results-2.4.2\n"
          ]
        }
      ]
    },
    {
      "cell_type": "code",
      "source": [
        "appConfig = {\n",
        "    \"NoOfLinks\" : 3\n",
        "}"
      ],
      "metadata": {
        "id": "3Jro5ntlS68W"
      },
      "execution_count": 36,
      "outputs": []
    },
    {
      "cell_type": "code",
      "source": [
        "import os\n",
        "\n",
        "class getApiKeys:\n",
        "\n",
        "  def __init__(self):\n",
        "    pass\n",
        "\n",
        "  def getApiKeys(self,apiKey):\n",
        "    return os.environ.get(apiKey)\n"
      ],
      "metadata": {
        "id": "OKQztJvr9_6h"
      },
      "execution_count": 17,
      "outputs": []
    },
    {
      "cell_type": "code",
      "source": [
        "openAikey = getApiKeys()"
      ],
      "metadata": {
        "id": "1PpfAjgtLw-5"
      },
      "execution_count": 18,
      "outputs": []
    },
    {
      "cell_type": "code",
      "source": [
        "import serpapi\n",
        "import json\n",
        "from serpapi import GoogleSearch # Add this import statement\n",
        "\n",
        "class searchForLinks:\n",
        "  def __init__(self):\n",
        "    pass\n",
        "\n",
        "  def getSearchResults(self,searchWord):\n",
        "    searpApiKey = getApiKeys()\n",
        "    params = {\n",
        "      \"q\": searchWord,\n",
        "      \"location\": \"Austin, Texas, United States\",\n",
        "      \"hl\": \"en\",\n",
        "      \"gl\": \"us\",\n",
        "      \"google_domain\": \"google.com\",\n",
        "      \"api_key\": searpApiKey.getApiKeys('serpAPIKey')\n",
        "    }\n",
        "\n",
        "    search = GoogleSearch(params)\n",
        "    results = search.get_dict()\n",
        "    linksList = []\n",
        "\n",
        "    if 'organic_results' in results:\n",
        "        for res in results['organic_results']:\n",
        "            if 'link' in res:  # Check if 'link' key exists in each result dictionary\n",
        "                linksList.append(res['link'])\n",
        "    else:\n",
        "        print(\"No organic results found in the response.\")\n",
        "\n",
        "    return linksList[:appConfig['NoOfLinks']]"
      ],
      "metadata": {
        "id": "B9I34FupATv7"
      },
      "execution_count": 37,
      "outputs": []
    },
    {
      "cell_type": "code",
      "source": [
        "sfl = searchForLinks()\n",
        "sfl.getSearchResults('Coffee')"
      ],
      "metadata": {
        "id": "dBhuzSauPlr6",
        "outputId": "0a180cca-4ad0-4aa2-c1c5-51286d2e25f5",
        "colab": {
          "base_uri": "https://localhost:8080/"
        }
      },
      "execution_count": 39,
      "outputs": [
        {
          "output_type": "execute_result",
          "data": {
            "text/plain": [
              "['https://en.wikipedia.org/wiki/Coffee',\n",
              " 'https://bluebottlecoffee.com/?srsltid=AfmBOooL9tFE4sP0qh93cKZou63YidTim8Y7TkCHZi3ZtSjo5lItLvda',\n",
              " 'https://www.peets.com/']"
            ]
          },
          "metadata": {},
          "execution_count": 39
        }
      ]
    },
    {
      "cell_type": "code",
      "source": [
        "class webCrawler:\n",
        "  def __init__(self):\n",
        "    pass\n",
        "\n",
        "  def crawlresulsts(self,links):\n",
        "    sfl = searchForLinks()\n",
        "    sfl.getSearchResults('Coffee')"
      ],
      "metadata": {
        "id": "nRr7KRn8AeY7"
      },
      "execution_count": null,
      "outputs": []
    },
    {
      "cell_type": "code",
      "source": [
        "class callLLM:\n",
        "  def __init__(self):\n",
        "    pass"
      ],
      "metadata": {
        "id": "PKUO9wpKAkgK"
      },
      "execution_count": null,
      "outputs": []
    }
  ],
  "metadata": {
    "colab": {
      "provenance": [],
      "toc_visible": true
    },
    "kernelspec": {
      "display_name": "Python 3",
      "name": "python3"
    }
  },
  "nbformat": 4,
  "nbformat_minor": 0
}