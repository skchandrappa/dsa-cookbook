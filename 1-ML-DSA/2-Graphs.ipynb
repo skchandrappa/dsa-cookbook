{
  "cells": [
    {
      "cell_type": "markdown",
      "metadata": {
        "id": "ao0SzukUF075"
      },
      "source": [
        "https://github.com/skchandrappa/dsa-cookbook.git\n",
        "\n"
      ]
    },
    {
      "cell_type": "markdown",
      "source": [
        "# 1- Create a Graph with Adjacency matrix and traverse BFS / DFS."
      ],
      "metadata": {
        "id": "lYqpwXFMGHDO"
      }
    },
    {
      "cell_type": "code",
      "source": [
        "\"\"\"\n",
        "### Create a class of Graph with attributes graph Dict and methods : add vertex , add edge, traverse and display, remove.\n",
        "\n",
        "{\n",
        "  \"a\": [\"b\", \"c\"],\n",
        "  \"b\": [\"a\", \"d\"],\n",
        "  \"c\": [\"a\", \"d\"],\n",
        "  \"d\": [\"e\"],\n",
        "  \"e\": [\"d\"]\n",
        "}\n",
        "\n",
        "Notes :\n",
        "  BFS Vs DFS : When target is close to startting point - BFS Buried deep - DFS\n",
        "\n",
        "\"\"\"\n",
        "\n",
        "class Graph:\n",
        "  def __init__(self):\n",
        "    self.graph = {}\n",
        "\n",
        "  ### If pressent in the list do not add else add.\n",
        "  def add_vertex(self, vertex):\n",
        "    if vertex not in self.graph.keys():\n",
        "      self.graph[vertex] = []\n",
        "      return True\n",
        "    return False\n",
        "\n",
        "  def print_graph(self):\n",
        "    for vertex in self.graph:\n",
        "      print(vertex,\"\",self.graph[vertex])\n",
        "\n",
        "  def add_edge(self, v1, v2):\n",
        "    if v1 in self.graph.keys() and v2 in self.graph.keys():\n",
        "      self.graph[v1].append(v2)\n",
        "      self.graph[v2].append(v1)\n",
        "      return True\n",
        "    return False\n",
        "\n",
        "  def remove_edge(self, v1, v2):\n",
        "    if v1 in self.graph.keys() and v2 in self.graph.keys():\n",
        "      try:\n",
        "        self.graph[v1].remove(v2)\n",
        "        self.graph[v2].remove(v1)\n",
        "      except ValueError:\n",
        "        pass\n",
        "        return True\n",
        "    return False\n",
        "\n",
        "  ### BFS search\n",
        "  def bfs(self, starting_vertex):\n",
        "    visited = []\n",
        "    queue = [starting_vertex]\n",
        "\n",
        "    while queue:\n",
        "      vertex = queue.pop(0)\n",
        "      if vertex not in visited:\n",
        "        visited.append(vertex)\n",
        "        queue.extend(self.graph[vertex])\n",
        "\n",
        "    return visited\n",
        "\n",
        "  ### DFS search\n",
        "  def dfs(self, starting_vertex):\n",
        "    visited = []\n",
        "    stack = [starting_vertex]\n",
        "\n",
        "    while stack:\n",
        "      vertex = stack.pop()\n",
        "      if vertex not in visited:\n",
        "        visited.append(vertex)\n",
        "        stack.extend(self.graph[vertex])\n",
        "    return visited\n",
        "\n",
        "custom_graph = Graph()\n",
        "# custom_graph.add_vertex(\"a\")\n",
        "# custom_graph.add_vertex(\"b\")\n",
        "# custom_graph.print_graph()\n",
        "# custom_graph.add_edge(\"a\", \"b\")\n",
        "# custom_graph.print_graph()\n",
        "# print(custom_graph.bfs(\"b\"))\n",
        "\n",
        "input_path = [(\"sfo\",\"las\"),(\"las\",\"lvs\"),(\"lvs\",\"slc\"),(\"slc\",\"las\"),(\"las\",\"dfw\"),(\"dfw\",\"jfk\")]\n",
        "\n",
        "for i in range(len(input_path)):\n",
        "  custom_graph.add_vertex(input_path[i][0])\n",
        "  custom_graph.add_vertex(input_path[i][1])\n",
        "\n",
        "for i in range(len(input_path)):\n",
        "  custom_graph.add_edge(input_path[i][0], input_path[i][1])\n",
        "\n",
        "custom_graph.print_graph()\n",
        "print(custom_graph.bfs(\"sfo\"))\n"
      ],
      "metadata": {
        "id": "RUoNvLyJXLGV",
        "outputId": "51420753-aba8-46e7-8ef5-b390e1f2b131",
        "colab": {
          "base_uri": "https://localhost:8080/"
        }
      },
      "execution_count": 1,
      "outputs": [
        {
          "output_type": "stream",
          "name": "stdout",
          "text": [
            "sfo  ['las']\n",
            "las  ['sfo', 'lvs', 'slc', 'dfw']\n",
            "lvs  ['las', 'slc']\n",
            "slc  ['lvs', 'las']\n",
            "dfw  ['las', 'jfk']\n",
            "jfk  ['dfw']\n",
            "['sfo', 'las', 'lvs', 'slc', 'dfw', 'jfk']\n"
          ]
        }
      ]
    },
    {
      "cell_type": "markdown",
      "source": [
        "# 2-Topological Sort : Command Graph"
      ],
      "metadata": {
        "id": "6KDmONrxGLd4"
      }
    },
    {
      "cell_type": "code",
      "source": [
        "#   Created by Elshad Karimov\n",
        "#   Copyright © 2021 AppMillers. All rights reserved.\n",
        "\n",
        "from collections import defaultdict\n",
        "\n",
        "class Graph:\n",
        "    def __init__(self, numberofVertices):\n",
        "        self.graph = defaultdict(list)\n",
        "\n",
        "    def addEdge(self, vertex, edge):\n",
        "        self.graph[vertex].append(edge)\n",
        "\n",
        "    def printgraph(self):\n",
        "        for vertex in self.graph:\n",
        "            print(vertex, \" -> \", self.graph[vertex])\n",
        "\n",
        "    def topogologicalSortUtil(self, v, visited, stack):\n",
        "        # for child of the vertex, set vetex as parent and chck for child to be in visited and add to stack.\n",
        "        visited.append(v)\n",
        "        print(visited)\n",
        "        for i in self.graph[v]:\n",
        "            print(\"child being checked\",i)\n",
        "            if i not in visited:\n",
        "                self.topogologicalSortUtil(i, visited, stack)\n",
        "\n",
        "        stack.insert(0, v)\n",
        "        print(\"stack\",stack)\n",
        "\n",
        "    def topologicalSort(self):\n",
        "\n",
        "        visited = []\n",
        "        stack = []\n",
        "\n",
        "        ## for every vertex in the graph perform recursive check.\n",
        "        for k in list(self.graph):\n",
        "            print(\"Vertex\",k)\n",
        "            if k not in visited:\n",
        "                self.topogologicalSortUtil(k, visited, stack)\n",
        "\n",
        "        print(stack)\n",
        "\n",
        "\n",
        "\n",
        "customGraph = Graph(8)\n",
        "customGraph.addEdge(\"A\", \"B\")\n",
        "customGraph.addEdge(\"A\", \"C\")\n",
        "customGraph.addEdge(\"B\", \"D\")\n",
        "customGraph.addEdge(\"B\", \"E\")\n",
        "customGraph.addEdge(\"C\", \"E\")\n",
        "\n",
        "customGraph.printgraph()\n",
        "customGraph.topologicalSort()"
      ],
      "metadata": {
        "colab": {
          "base_uri": "https://localhost:8080/"
        },
        "id": "VyJobt2lGQus",
        "outputId": "7d759633-fd36-4116-b2d2-50180412cd8f"
      },
      "execution_count": 21,
      "outputs": [
        {
          "output_type": "stream",
          "name": "stdout",
          "text": [
            "A  ->  ['B', 'C']\n",
            "B  ->  ['D', 'E']\n",
            "C  ->  ['E']\n",
            "Vertex A\n",
            "['A']\n",
            "child being checked B\n",
            "['A', 'B']\n",
            "child being checked D\n",
            "['A', 'B', 'D']\n",
            "stack ['D']\n",
            "child being checked E\n",
            "['A', 'B', 'D', 'E']\n",
            "stack ['E', 'D']\n",
            "stack ['B', 'E', 'D']\n",
            "child being checked C\n",
            "['A', 'B', 'D', 'E', 'C']\n",
            "child being checked E\n",
            "stack ['C', 'B', 'E', 'D']\n",
            "stack ['A', 'C', 'B', 'E', 'D']\n",
            "Vertex B\n",
            "Vertex C\n",
            "['A', 'C', 'B', 'E', 'D']\n"
          ]
        }
      ]
    }
  ],
  "metadata": {
    "colab": {
      "provenance": [],
      "toc_visible": true
    },
    "kernelspec": {
      "display_name": "Python 3",
      "name": "python3"
    }
  },
  "nbformat": 4,
  "nbformat_minor": 0
}