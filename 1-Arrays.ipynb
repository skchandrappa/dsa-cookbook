{
  "nbformat": 4,
  "nbformat_minor": 0,
  "metadata": {
    "colab": {
      "provenance": [],
      "toc_visible": true
    },
    "kernelspec": {
      "name": "python3",
      "display_name": "Python 3"
    }
  },
  "cells": [
    {
      "cell_type": "code",
      "metadata": {
        "id": "HoBq29kU6rbf"
      },
      "source": [
        "import pandas as pd\n",
        "import numpy as np"
      ],
      "execution_count": null,
      "outputs": []
    },
    {
      "cell_type": "code",
      "source": [
        "# prompt: code for splitting sptring\n",
        "\n",
        "def split_string(input_string, delimiter):\n",
        "  \"\"\"Splits a string using a specified delimiter.\n",
        "\n",
        "  Args:\n",
        "    input_string: The string to split.\n",
        "    delimiter: The delimiter to use for splitting.\n",
        "\n",
        "  Returns:\n",
        "    A list of strings, split by the delimiter.\n",
        "  \"\"\"\n",
        "\n",
        "  return input_string.split(delimiter)\n",
        "\n",
        "# Example usage:\n",
        "string_to_split = \"apple,banana,cherry\"\n",
        "delimiter = \",\"\n",
        "split_result = split_string(string_to_split, delimiter)\n",
        "print(split_result)\n"
      ],
      "metadata": {
        "id": "7nnmyelcTxoX"
      },
      "execution_count": 1,
      "outputs": []
    },
    {
      "cell_type": "code",
      "source": [
        "def newarraylist():\n",
        "  print (\"new array list\")"
      ],
      "metadata": {
        "id": "jKLijjs3U1-X"
      },
      "execution_count": 2,
      "outputs": []
    },
    {
      "cell_type": "code",
      "source": [
        "def split_string(input_string, delimiter):\n",
        "  \"\"\"Splits a string using a specified delimiter.\n",
        "\n",
        "  Args:\n",
        "    input_string: The string to split.\n",
        "    delimiter: The delimiter to use for splitting.\n",
        "\n",
        "  Returns:\n",
        "    A list of strings, split by the delimiter.\n",
        "  \"\"\"\n",
        "\n",
        "  return input_string.split(delimiter)\n",
        "\n",
        "# Example usage:\n",
        "string_to_split = \"apple,banana,cherry\"\n",
        "delimiter = \",\"\n",
        "split_result = split_string(string_to_split, delimiter)\n",
        "print(split_result)"
      ],
      "metadata": {
        "colab": {
          "base_uri": "https://localhost:8080/"
        },
        "id": "Fj3tPooKVOk7",
        "outputId": "26d48b4e-8013-4433-be4f-9c07ceaf7554"
      },
      "execution_count": 3,
      "outputs": [
        {
          "output_type": "stream",
          "name": "stdout",
          "text": [
            "['apple', 'banana', 'cherry']\n"
          ]
        }
      ]
    }
  ]
}