{
  "cells": [
    {
      "cell_type": "markdown",
      "metadata": {
        "id": "ao0SzukUF075"
      },
      "source": [
        "https://github.com/skchandrappa/dsa-cookbook.git\n",
        "\n"
      ]
    },
    {
      "cell_type": "markdown",
      "source": [
        "# 1- Create a Graph with Adjacency matrix and traverse BFS / DFS."
      ],
      "metadata": {
        "id": "lYqpwXFMGHDO"
      }
    },
    {
      "cell_type": "code",
      "source": [
        "\"\"\"\n",
        "### Create a class of Graph with attributes graph Dict and methods : add vertex , add edge, traverse and display, remove.\n",
        "\n",
        "{\n",
        "  \"a\": [\"b\", \"c\"],\n",
        "  \"b\": [\"a\", \"d\"],\n",
        "  \"c\": [\"a\", \"d\"],\n",
        "  \"d\": [\"e\"],\n",
        "  \"e\": [\"d\"]\n",
        "}\n",
        "\n",
        "Notes :\n",
        "  BFS Vs DFS : When target is close to startting point - BFS Buried deep - DFS\n",
        "\n",
        "\"\"\"\n",
        "\n",
        "class Graph:\n",
        "  def __init__(self):\n",
        "    self.graph = {}\n",
        "\n",
        "  ### If pressent in the list do not add else add.\n",
        "  def add_vertex(self, vertex):\n",
        "    if vertex not in self.graph.keys():\n",
        "      self.graph[vertex] = []\n",
        "      return True\n",
        "    return False\n",
        "\n",
        "  def print_graph(self):\n",
        "    for vertex in self.graph:\n",
        "      print(vertex,\"\",self.graph[vertex])\n",
        "\n",
        "  def add_edge(self, v1, v2):\n",
        "    if v1 in self.graph.keys() and v2 in self.graph.keys():\n",
        "      self.graph[v1].append(v2)\n",
        "      self.graph[v2].append(v1)\n",
        "      return True\n",
        "    return False\n",
        "\n",
        "  def remove_edge(self, v1, v2):\n",
        "    if v1 in self.graph.keys() and v2 in self.graph.keys():\n",
        "      try:\n",
        "        self.graph[v1].remove(v2)\n",
        "        self.graph[v2].remove(v1)\n",
        "      except ValueError:\n",
        "        pass\n",
        "        return True\n",
        "    return False\n",
        "\n",
        "  ### BFS search\n",
        "  def bfs(self, starting_vertex):\n",
        "    visited = []\n",
        "    queue = [starting_vertex]\n",
        "\n",
        "    while queue:\n",
        "      vertex = queue.pop(0)\n",
        "      if vertex not in visited:\n",
        "        visited.append(vertex)\n",
        "        queue.extend(self.graph[vertex])\n",
        "\n",
        "    return visited\n",
        "\n",
        "  ### DFS search\n",
        "  def dfs(self, starting_vertex):\n",
        "    visited = []\n",
        "    stack = [starting_vertex]\n",
        "\n",
        "    while stack:\n",
        "      vertex = stack.pop()\n",
        "      if vertex not in visited:\n",
        "        visited.append(vertex)\n",
        "        stack.extend(self.graph[vertex])\n",
        "    return visited\n",
        "\n",
        "custom_graph = Graph()\n",
        "# custom_graph.add_vertex(\"a\")\n",
        "# custom_graph.add_vertex(\"b\")\n",
        "# custom_graph.print_graph()\n",
        "# custom_graph.add_edge(\"a\", \"b\")\n",
        "# custom_graph.print_graph()\n",
        "# print(custom_graph.bfs(\"b\"))\n",
        "\n",
        "input_path = [(\"sfo\",\"las\"),(\"las\",\"lvs\"),(\"lvs\",\"slc\"),(\"slc\",\"las\"),(\"las\",\"dfw\"),(\"dfw\",\"jfk\")]\n",
        "\n",
        "for i in range(len(input_path)):\n",
        "  custom_graph.add_vertex(input_path[i][0])\n",
        "  custom_graph.add_vertex(input_path[i][1])\n",
        "\n",
        "for i in range(len(input_path)):\n",
        "  custom_graph.add_edge(input_path[i][0], input_path[i][1])\n",
        "\n",
        "custom_graph.print_graph()\n",
        "print(custom_graph.bfs(\"sfo\"))\n"
      ],
      "metadata": {
        "id": "RUoNvLyJXLGV",
        "outputId": "51420753-aba8-46e7-8ef5-b390e1f2b131",
        "colab": {
          "base_uri": "https://localhost:8080/"
        }
      },
      "execution_count": null,
      "outputs": [
        {
          "output_type": "stream",
          "name": "stdout",
          "text": [
            "sfo  ['las']\n",
            "las  ['sfo', 'lvs', 'slc', 'dfw']\n",
            "lvs  ['las', 'slc']\n",
            "slc  ['lvs', 'las']\n",
            "dfw  ['las', 'jfk']\n",
            "jfk  ['dfw']\n",
            "['sfo', 'las', 'lvs', 'slc', 'dfw', 'jfk']\n"
          ]
        }
      ]
    },
    {
      "cell_type": "markdown",
      "source": [
        "# 2-Topological Sort : LLM Command Graph from a json - Basic."
      ],
      "metadata": {
        "id": "6KDmONrxGLd4"
      }
    },
    {
      "cell_type": "code",
      "source": [
        "\n",
        "from collections import defaultdict\n",
        "\n",
        "class Graph:\n",
        "    def __init__(self, numberofVertices):\n",
        "        self.graph = defaultdict(list)\n",
        "\n",
        "    def addEdge(self, vertex, edge):\n",
        "        self.graph[vertex].append(edge)\n",
        "\n",
        "    def printgraph(self):\n",
        "        for vertex in self.graph:\n",
        "            print(vertex, \" -> \", self.graph[vertex])\n",
        "\n",
        "    def topogologicalSortUtil(self, v, visited, stack):\n",
        "        # for child of the vertex, set vetex as parent and chck for child to be in visited and add to stack.\n",
        "        visited.append(v)\n",
        "\n",
        "        for i in self.graph[v]:\n",
        "            if i not in visited:\n",
        "                self.topogologicalSortUtil(i, visited, stack)\n",
        "\n",
        "        stack.insert(0, v)\n",
        "\n",
        "    def topologicalSort(self):\n",
        "        visited = []\n",
        "        stack = []\n",
        "\n",
        "        ## for every vertex in the graph perform recursive check.\n",
        "        for k in list(self.graph):\n",
        "\n",
        "            if k not in visited:\n",
        "                self.topogologicalSortUtil(k, visited, stack)\n",
        "\n",
        "        print(stack)\n",
        "\n",
        "    def dfs(self, starting_vertex):\n",
        "        visited = []\n",
        "        stack = [starting_vertex]\n",
        "\n",
        "        while stack:\n",
        "          vertex = stack.pop()\n",
        "          if vertex not in visited:\n",
        "            visited.append(vertex)\n",
        "            stack.extend(self.graph[vertex])\n",
        "        print(visited)\n",
        "\n",
        "\n",
        "customGraph = Graph(8)\n",
        "customGraph.addEdge(\"A\", \"B\")\n",
        "customGraph.addEdge(\"A\", \"C\")\n",
        "customGraph.addEdge(\"B\", \"D\")\n",
        "customGraph.addEdge(\"B\", \"E\")\n",
        "customGraph.addEdge(\"C\", \"E\")\n",
        "\n",
        "customGraph.printgraph()\n",
        "\n"
      ],
      "metadata": {
        "colab": {
          "base_uri": "https://localhost:8080/"
        },
        "id": "VyJobt2lGQus",
        "outputId": "43398331-b27b-43d1-a3e0-daa9d71b4055"
      },
      "execution_count": null,
      "outputs": [
        {
          "output_type": "stream",
          "name": "stdout",
          "text": [
            "A  ->  ['B', 'C']\n",
            "B  ->  ['D', 'E']\n",
            "C  ->  ['E']\n"
          ]
        }
      ]
    },
    {
      "cell_type": "code",
      "source": [
        "!pip install genson\n",
        "!pip install networkx\n",
        "!pip install matplotlib"
      ],
      "metadata": {
        "id": "t1nDmwdfz_Si"
      },
      "execution_count": null,
      "outputs": []
    },
    {
      "cell_type": "code",
      "source": [
        "class Graph:\n",
        "    def __init__(self):\n",
        "        self.graph = defaultdict(list)\n",
        "\n",
        "    def addEdge(self, vertex, edge):\n",
        "        self.graph[vertex].append(edge)\n",
        "\n",
        "    def printgraph(self):\n",
        "        for vertex in self.graph:\n",
        "            print(vertex, \" -> \", self.graph[vertex])\n",
        "\n",
        "    def topogologicalSortUtil(self, v, visited, stack):\n",
        "        # for child of the vertex, set vetex as parent and chck for child to be in visited and add to stack.\n",
        "        visited.append(v)\n",
        "\n",
        "        for i in self.graph[v]:\n",
        "            if i not in visited:\n",
        "                self.topogologicalSortUtil(i, visited, stack)\n",
        "\n",
        "        stack.insert(0, v)\n",
        "\n",
        "    def topologicalSort(self):\n",
        "        visited = []\n",
        "        stack = []\n",
        "\n",
        "        ## for every vertex in the graph perform recursive check.\n",
        "        for k in list(self.graph):\n",
        "\n",
        "            if k not in visited:\n",
        "                self.topogologicalSortUtil(k, visited, stack)\n",
        "\n",
        "        print(stack)\n",
        "\n",
        "    def dfs(self, starting_vertex):\n",
        "        visited = []\n",
        "        stack = [starting_vertex]\n",
        "\n",
        "        while stack:\n",
        "          vertex = stack.pop()\n",
        "          if vertex not in visited:\n",
        "            visited.append(vertex)\n",
        "            stack.extend(self.graph[vertex])\n",
        "\n",
        "        print(visited)\n",
        "\n",
        "      ### BFS search\n",
        "    def bfs(self, starting_vertex):\n",
        "      visited = []\n",
        "      queue = [starting_vertex]\n",
        "\n",
        "      while queue:\n",
        "        vertex = queue.pop(0)\n",
        "        if vertex not in visited:\n",
        "          visited.append(vertex)\n",
        "          queue.extend(self.graph[vertex])\n",
        "\n",
        "      print(visited)"
      ],
      "metadata": {
        "id": "UoQFdz1x_MUs"
      },
      "execution_count": null,
      "outputs": []
    },
    {
      "cell_type": "code",
      "source": [
        "import json\n",
        "import genson\n",
        "import networkx as nx\n",
        "import matplotlib.pyplot as plt\n",
        "\n",
        "def convert_schema(data):\n",
        "\n",
        "    # Create a schema builder.\n",
        "    schema_builder = genson.SchemaBuilder(data)\n",
        "    # Add data to the schema builder.\n",
        "    schema_builder.add_object(data )\n",
        "    # Generate the schema.\n",
        "\n",
        "    return schema_builder.to_schema()\n",
        "\n",
        "data = {\n",
        "  \"name\": \"John Doe\",\n",
        "  \"age\": 30,\n",
        "  \"weight\":26.3456,\n",
        "  \"is_student\": True,\n",
        "  \"hobbies\": [\"reading\", \"coding\", \"traveling\"],  ### create a line with add Button and repeat if not Json else drop down list.\n",
        "  \"address\": {\n",
        "    \"street\": \"123 Main St\",\n",
        "    \"city\": \"Anytown\",\n",
        "    \"state\": \"CA\",\n",
        "    \"zip\": 12345\n",
        "  },\n",
        "  \"favorite_color\": '',\n",
        "  \"last_updated\": \"2023-12-31T23:59:59Z\"\n",
        "}\n",
        "\n",
        "schemaJson = convert_schema(data)\n",
        "\n",
        "#print(schemaJson['properties'])\n",
        "## gather all properties and add as vertices.\n",
        "\n",
        "def getvertices(properties,commandGraph,starting_vertex):\n",
        "  for key,value in properties.items():\n",
        "      if value[\"type\"] != \"object\":\n",
        "          print(key,starting_vertex)\n",
        "          commandGraph.addEdge(starting_vertex,key)\n",
        "      else:\n",
        "          commandGraph.addEdge(starting_vertex,key)\n",
        "          getvertices(value[\"properties\"],commandGraph,key)\n",
        "\n",
        "\n",
        "commandGraph=Graph()\n",
        "starting_vertex = \"schema\"\n",
        "getvertices(schemaJson['properties'],commandGraph,starting_vertex)\n",
        "commandGraph.printgraph()\n",
        "commandGraph.bfs(\"schema\")\n"
      ],
      "metadata": {
        "colab": {
          "base_uri": "https://localhost:8080/"
        },
        "id": "IMcPMy4bz5s9",
        "outputId": "175b10d1-d548-4957-8375-977e12bb5344"
      },
      "execution_count": null,
      "outputs": [
        {
          "output_type": "stream",
          "name": "stdout",
          "text": [
            "name schema\n",
            "age schema\n",
            "weight schema\n",
            "is_student schema\n",
            "hobbies schema\n",
            "street address\n",
            "city address\n",
            "state address\n",
            "zip address\n",
            "favorite_color schema\n",
            "last_updated schema\n",
            "schema  ->  ['name', 'age', 'weight', 'is_student', 'hobbies', 'address', 'favorite_color', 'last_updated']\n",
            "address  ->  ['street', 'city', 'state', 'zip']\n",
            "['schema', 'name', 'age', 'weight', 'is_student', 'hobbies', 'address', 'favorite_color', 'last_updated', 'street', 'city', 'state', 'zip']\n"
          ]
        }
      ]
    },
    {
      "cell_type": "markdown",
      "source": [
        "# 3- Single Source Shortest path. BFS"
      ],
      "metadata": {
        "id": "OL4hdozin0m_"
      }
    },
    {
      "cell_type": "code",
      "source": [
        "#   Created by Elshad Karimov\n",
        "#   Copyright © 2021 AppMillers. All rights reserved.\n",
        "\n",
        "## Path Queue Node Variables.\n",
        "\n",
        "class Graph:\n",
        "    def __init__(self, gdict=None):\n",
        "        if gdict is None:\n",
        "            gdict = {}\n",
        "        self.gdict = gdict\n",
        "\n",
        "    def bfs(self, start, end):\n",
        "        queue = []\n",
        "        queue.append([start])\n",
        "\n",
        "        while queue:\n",
        "            path = queue.pop(0)\n",
        "            node = path[-1]\n",
        "            # print(\"node -- >\",node,\"|\")\n",
        "\n",
        "            if node == end:\n",
        "                print(queue)\n",
        "                return path\n",
        "\n",
        "            for adjacent in self.gdict.get(node, []):\n",
        "                new_path = list(path)\n",
        "                new_path.append(adjacent)\n",
        "                queue.append(new_path)\n",
        "                # print(adjacent,\"-->\",queue)\n",
        "\n",
        "customDict = { \"a\" : [\"b\", \"c\"],\n",
        "               \"b\" : [\"d\", \"g\"],\n",
        "               \"c\" : [\"d\", \"e\"],\n",
        "               \"d\" : [\"f\"],\n",
        "               \"e\" : [\"f\"],\n",
        "               \"g\" : [\"f\"]\n",
        "            }\n",
        "\n",
        "g = Graph(customDict)\n",
        "print(g.bfs(\"a\", \"d\"))\n",
        "\n",
        "# customDict = { \"SF\" : [\"LA\"],\n",
        "#                \"LA\" : [\"SLC\",\"LV\"],\n",
        "#                \"LV\" : [\"SLC\",\"DFW\"],\n",
        "#                \"SLC\" : [\"LA\",\"LV\"],\n",
        "#                \"DFW\" : [\"JFK\"]\n",
        "#              }\n",
        "\n",
        "# g = Graph(customDict)\n",
        "# print(g.bfs(\"SF\", \"JFK\"))\n"
      ],
      "metadata": {
        "colab": {
          "base_uri": "https://localhost:8080/"
        },
        "id": "WLER9PIin8Nb",
        "outputId": "74c2b100-3b95-497e-cbdb-020ec269c124"
      },
      "execution_count": 34,
      "outputs": [
        {
          "output_type": "stream",
          "name": "stdout",
          "text": [
            "[['a', 'b', 'g'], ['a', 'c', 'd'], ['a', 'c', 'e']]\n",
            "['a', 'b', 'd']\n"
          ]
        }
      ]
    },
    {
      "cell_type": "code",
      "source": [],
      "metadata": {
        "id": "AzLBrwPk8GhJ"
      },
      "execution_count": null,
      "outputs": []
    },
    {
      "cell_type": "markdown",
      "source": [
        "#  3- Single Source Shortest path.  DJIKISTRA"
      ],
      "metadata": {
        "id": "VTot1dfPKFEN"
      }
    },
    {
      "cell_type": "code",
      "source": [
        "import heapq\n",
        "# class for edges\n",
        "\n",
        "class Edge:\n",
        "    def __init__(self, weight, start_vertex, target_vertex):\n",
        "        self.weight = weight\n",
        "        self.start_vertex = start_vertex\n",
        "        self.target_vertex = target_vertex\n",
        "\n",
        "# class for Nodes\n",
        "class Node:\n",
        "    def __init__(self, name):\n",
        "        self.name = name\n",
        "        self.visited = False\n",
        "        # previous node that we come to this node\n",
        "        self.predecessor = None\n",
        "        self.neighbors = []\n",
        "        self.min_distance = float(\"inf\")\n",
        "\n",
        "    def __lt__(self, other_node):\n",
        "        return self.min_distance < other_node.min_distance\n",
        "\n",
        "    def add_edge(self, weight, destination_vertex):\n",
        "        edge = Edge(weight, self, destination_vertex)\n",
        "        self.neighbors.append(edge)\n",
        "\n",
        "# Dijkstra Algorithm\n",
        "class Dijkstra:\n",
        "    def __init__(self):\n",
        "        self.heap = []\n",
        "\n",
        "    def calculate(self, start_vertex):\n",
        "        start_vertex.min_distance = 0\n",
        "        heapq.heappush(self.heap, start_vertex)\n",
        "\n",
        "        while self.heap:\n",
        "            # pop element with the lowest distance\n",
        "            actual_vertex = heapq.heappop(self.heap)\n",
        "            if actual_vertex.visited:\n",
        "                continue\n",
        "            #  consider the neighbors\n",
        "            for edge in actual_vertex.neighbors:\n",
        "                start = edge.start_vertex\n",
        "                target = edge.target_vertex\n",
        "                new_distance = start.min_distance + edge.weight\n",
        "                if new_distance < target.min_distance:\n",
        "                    target.min_distance = new_distance\n",
        "                    target.predecessor = start\n",
        "                    # update the heap\n",
        "                    heapq.heappush(self.heap, target)\n",
        "                    # [F-19, F-17]\n",
        "            actual_vertex.visited = True\n",
        "\n",
        "    def get_shortest_path(self, vertex):\n",
        "        print(f\"The shortest path to the vertext is: {vertex.min_distance}\")\n",
        "        actual_vertex = vertex\n",
        "        while actual_vertex is not None:\n",
        "            print(actual_vertex.name, end=\" \")\n",
        "            actual_vertex = actual_vertex.predecessor\n",
        "\n",
        "\n",
        "\n",
        "# Step 1 - create nodes\n",
        "nodeA = Node(\"A\")\n",
        "nodeB = Node(\"B\")\n",
        "nodeC = Node(\"C\")\n",
        "nodeD = Node(\"D\")\n",
        "nodeE = Node(\"E\")\n",
        "nodeF = Node(\"F\")\n",
        "nodeG = Node(\"G\")\n",
        "nodeH = Node(\"H\")\n",
        "\n",
        "# Step 2 - create edges\n",
        "nodeA.add_edge(6, nodeB)\n",
        "nodeA.add_edge(10, nodeC)\n",
        "nodeA.add_edge(9, nodeD)\n",
        "\n",
        "nodeB.add_edge(5, nodeD)\n",
        "nodeB.add_edge(16, nodeE)\n",
        "nodeB.add_edge(13, nodeF)\n",
        "\n",
        "nodeC.add_edge(6, nodeD)\n",
        "nodeC.add_edge(5, nodeH)\n",
        "nodeC.add_edge(21, nodeG)\n",
        "\n",
        "nodeD.add_edge(8, nodeF)\n",
        "nodeD.add_edge(7, nodeH)\n",
        "\n",
        "nodeE.add_edge(10, nodeG)\n",
        "\n",
        "nodeF.add_edge(4, nodeE)\n",
        "nodeF.add_edge(12, nodeG)\n",
        "\n",
        "nodeH.add_edge(2, nodeF)\n",
        "nodeH.add_edge(14, nodeG)\n",
        "\n",
        "algorithm = Dijkstra()\n",
        "algorithm.calculate(nodeA)\n",
        "algorithm.get_shortest_path(nodeG)"
      ],
      "metadata": {
        "id": "W6n9L3HsKJJ9",
        "outputId": "8c729066-a290-4495-e2cd-b2bb9a2567ab",
        "colab": {
          "base_uri": "https://localhost:8080/"
        }
      },
      "execution_count": 2,
      "outputs": [
        {
          "output_type": "stream",
          "name": "stdout",
          "text": [
            "The shortest path to the vertext is: 29\n",
            "G H C A "
          ]
        }
      ]
    }
  ],
  "metadata": {
    "colab": {
      "provenance": []
    },
    "kernelspec": {
      "display_name": "Python 3",
      "name": "python3"
    }
  },
  "nbformat": 4,
  "nbformat_minor": 0
}