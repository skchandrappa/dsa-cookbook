{
  "cells": [
    {
      "cell_type": "code",
      "source": [
        "# #### Pre Installs\n",
        "# import os\n",
        "# os.environ['openAIAPIKey'] = ''\n",
        "# os.environ['serpAPIKey'] = ''\n",
        "!pip install google-search-results"
      ],
      "metadata": {
        "colab": {
          "base_uri": "https://localhost:8080/"
        },
        "id": "QhApqbbXAupk",
        "outputId": "1575afa0-8ac2-4f27-b5e9-9d20efe5a045"
      },
      "execution_count": 43,
      "outputs": [
        {
          "output_type": "stream",
          "name": "stdout",
          "text": [
            "Requirement already satisfied: google-search-results in /usr/local/lib/python3.10/dist-packages (2.4.2)\n",
            "Requirement already satisfied: requests in /usr/local/lib/python3.10/dist-packages (from google-search-results) (2.32.3)\n",
            "Requirement already satisfied: charset-normalizer<4,>=2 in /usr/local/lib/python3.10/dist-packages (from requests->google-search-results) (3.4.0)\n",
            "Requirement already satisfied: idna<4,>=2.5 in /usr/local/lib/python3.10/dist-packages (from requests->google-search-results) (3.10)\n",
            "Requirement already satisfied: urllib3<3,>=1.21.1 in /usr/local/lib/python3.10/dist-packages (from requests->google-search-results) (2.2.3)\n",
            "Requirement already satisfied: certifi>=2017.4.17 in /usr/local/lib/python3.10/dist-packages (from requests->google-search-results) (2024.8.30)\n"
          ]
        }
      ]
    },
    {
      "cell_type": "code",
      "source": [
        "appConfig = {\n",
        "    \"NoOfLinks\" : 3,\n",
        "    \"oaSystemprompt\" : \"You are an assistant that analyzes the contents of a website and provides a short summary, ignoring text that might be navigation related. Respond in markdown.\",\n",
        "    \"oaUserprompt\" : \"\"\n",
        "}"
      ],
      "metadata": {
        "id": "3Jro5ntlS68W"
      },
      "execution_count": 33,
      "outputs": []
    },
    {
      "cell_type": "code",
      "source": [
        "import os\n",
        "\n",
        "class getApiKeys:\n",
        "\n",
        "  def __init__(self):\n",
        "    pass\n",
        "\n",
        "  def getApiKeys(self,apiKey):\n",
        "    return os.environ.get(apiKey)"
      ],
      "metadata": {
        "id": "OKQztJvr9_6h"
      },
      "execution_count": 34,
      "outputs": []
    },
    {
      "cell_type": "code",
      "source": [
        "import serpapi\n",
        "import json\n",
        "from serpapi import GoogleSearch # Add this import statement\n",
        "\n",
        "class searchForLinks:\n",
        "  def __init__(self):\n",
        "    pass\n",
        "\n",
        "  def getSearchResults(self,searchWord):\n",
        "    searpApiKey = getApiKeys()\n",
        "    params = {\n",
        "      \"q\": searchWord,\n",
        "      \"hl\": \"en\",\n",
        "      \"gl\": \"us\",\n",
        "      \"google_domain\": \"google.com\",\n",
        "      \"api_key\": searpApiKey.getApiKeys('serpAPIKey')\n",
        "    }\n",
        "\n",
        "    search = GoogleSearch(params)\n",
        "    results = search.get_dict()\n",
        "    linksList = []\n",
        "\n",
        "    if 'organic_results' in results:\n",
        "        for res in results['organic_results']:\n",
        "            if 'link' in res:  # Check if 'link' key exists in each result dictionary\n",
        "                linksList.append(res['link'])\n",
        "    else:\n",
        "        print(\"No organic results found in the response.\")\n",
        "\n",
        "    return linksList[:appConfig['NoOfLinks']]"
      ],
      "metadata": {
        "id": "B9I34FupATv7"
      },
      "execution_count": 36,
      "outputs": []
    },
    {
      "cell_type": "code",
      "source": [
        "sfl = searchForLinks()\n",
        "sfl.getSearchResults('coffee')"
      ],
      "metadata": {
        "colab": {
          "base_uri": "https://localhost:8080/"
        },
        "id": "dBhuzSauPlr6",
        "outputId": "cae45c46-f176-4e4c-ed3f-39d1e7a19a8b"
      },
      "execution_count": 37,
      "outputs": [
        {
          "output_type": "execute_result",
          "data": {
            "text/plain": [
              "['https://en.wikipedia.org/wiki/Coffee',\n",
              " 'https://bluebottlecoffee.com/?srsltid=AfmBOoq8gnRau5HYxQYISjN2ayTy3oODuySShGu6HG4dXRIOxORDg1dQ',\n",
              " 'https://www.starbucks.com/']"
            ]
          },
          "metadata": {},
          "execution_count": 37
        }
      ]
    },
    {
      "cell_type": "code",
      "source": [
        "import requests\n",
        "from bs4 import BeautifulSoup\n",
        "from IPython.display import Markdown, display\n",
        "\n",
        "\n",
        "class webCrawler:\n",
        "\n",
        "  def __init__(self):\n",
        "    pass\n",
        "\n",
        "  def crawlresults(self,srch):\n",
        "    sfl = searchForLinks()\n",
        "    linktocrawl = sfl.getSearchResults(srch)\n",
        "\n",
        "    crawlJson = {}\n",
        "    for links in linktocrawl:\n",
        "      crawlJson.update(self.crawl(links))\n",
        "\n",
        "    return crawlJson\n",
        "\n",
        "  def crawl(self, url: str):\n",
        "    response = requests.get(url)\n",
        "    soup = BeautifulSoup(response.text, 'html.parser')\n",
        "    title = soup.title.string if soup.title else \"Title not found\"\n",
        "\n",
        "    if soup.body:\n",
        "      for irrelevant in soup.body([\"script\", \"style\",\"img\",\"input\"]):\n",
        "        irrelevant.decompose()\n",
        "      text = soup.body.get_text(separator=\"\\n\", strip=True)\n",
        "    else:\n",
        "      text = \"\"\n",
        "\n",
        "    return {title : text}\n",
        "\n",
        "    # links = [link.get('href') for link in soup.find_all('a')]\n",
        "    # self.links = [link for link in links if link]"
      ],
      "metadata": {
        "id": "nRr7KRn8AeY7"
      },
      "execution_count": 62,
      "outputs": []
    },
    {
      "cell_type": "code",
      "source": [
        "import os\n",
        "import requests\n",
        "# from dotenv import load_dotenv\n",
        "from bs4 import BeautifulSoup\n",
        "from IPython.display import Markdown, display\n",
        "from openai import OpenAI\n",
        "import time\n",
        "\n",
        "\n",
        "class summarizer:\n",
        "\n",
        "  def __init__(self):\n",
        "    pass\n",
        "\n",
        "  def user_prompt_for(self,title,text):\n",
        "      user_prompt = f\"You are looking at a website titled {title}\"\n",
        "      user_prompt += \"The contents of this website is as follows; \\\n",
        "                      please find different types of coffees from  this website in markdown. \\\n",
        "                      If it includes news or announcements, then summarize these too.\\n\\n\"\n",
        "      user_prompt += text\n",
        "      return user_prompt\n",
        "\n",
        "  def messages_for(self,content):\n",
        "      return [\n",
        "          {\"role\": \"system\", \"content\": appConfig['oaSystemprompt']},\n",
        "          {\"role\": \"user\", \"content\": content}\n",
        "      ]\n",
        "\n",
        "  def summarize(self,url):\n",
        "      searpApiKey = getApiKeys()\n",
        "      api_key = searpApiKey.getApiKeys('openAIAPIKey')\n",
        "\n",
        "      openai = OpenAI(api_key=api_key)\n",
        "\n",
        "      crawl = webCrawler()\n",
        "      contents = crawl.crawlresults(url)\n",
        "\n",
        "      responses = []\n",
        "\n",
        "      for content in contents:\n",
        "        user_prompt = self.user_prompt_for(content,contents[content])\n",
        "        messages = self.messages_for(content)\n",
        "\n",
        "        response = openai.chat.completions.create(\n",
        "            model = \"gpt-4o-mini\",\n",
        "            messages = messages\n",
        "        )\n",
        "        responses.append(response.choices[0].message.content)\n",
        "\n",
        "      return responses\n"
      ],
      "metadata": {
        "id": "R2Zx1YHBUb86"
      },
      "execution_count": 59,
      "outputs": []
    },
    {
      "cell_type": "code",
      "source": [
        "# summarize(\"coffee\")\n",
        "extract = summarizer()\n",
        "results = extract.summarize('coffee')\n",
        "for I in results:\n",
        "  display(Markdown(I))"
      ],
      "metadata": {
        "colab": {
          "base_uri": "https://localhost:8080/",
          "height": 703
        },
        "id": "PKUO9wpKAkgK",
        "outputId": "565faddf-d67a-4b99-fa32-8bff6b98c632"
      },
      "execution_count": 63,
      "outputs": [
        {
          "output_type": "display_data",
          "data": {
            "text/plain": [
              "<IPython.core.display.Markdown object>"
            ],
            "text/markdown": "## Summary of Coffee - Wikipedia\n\nCoffee is a popular brewed beverage made from roasted coffee beans, the seeds of berries from the Coffea plant. It is consumed around the world and is notable for its stimulating effect, largely attributed to caffeine. \n\nThe history of coffee dates back to its discovery in Ethiopia, spreading to the Arabian Peninsula and then to the rest of the world. Coffee cultivation and trade have significantly shaped economies and cultures.\n\nThere are many different types of coffee drinks, including espresso, cappuccino, and latte, each varying in preparation methods and flavor profiles. The beverage is often enjoyed in social settings, and coffeehouses have historically served as important cultural hubs.\n\nNutritionally, coffee contains various antioxidants and has been linked to numerous health benefits, although excessive consumption can lead to negative side effects.\n\nCoffee production involves several stages, including harvesting, processing, roasting, and brewing. Major coffee-producing countries include Brazil, Vietnam, and Colombia.\n\nSustainability and the impact of coffee farming on the environment is a growing concern, prompting initiatives aimed at promoting fair trading practices and environmentally friendly cultivation methods. \n\nOverall, coffee has a rich cultural significance and continues to be a crucial part of daily life for many people globally."
          },
          "metadata": {}
        },
        {
          "output_type": "display_data",
          "data": {
            "text/plain": [
              "<IPython.core.display.Markdown object>"
            ],
            "text/markdown": "Peet's Coffee is a specialty coffee roaster and retailer established in 1966. The brand prides itself on crafting high-quality coffee with a focus on sourcing premium beans and offering a variety of blends and single-origin coffees. Peet's Coffee emphasizes its commitment to freshness, flavor, and sustainability, showcasing a strong heritage in the coffee industry. The company also offers a selection of teas and coffee-related merchandise, catering to a diverse customer base through its cafes and online store."
          },
          "metadata": {}
        },
        {
          "output_type": "display_data",
          "data": {
            "text/plain": [
              "<IPython.core.display.Markdown object>"
            ],
            "text/markdown": "### Starbucks Coffee Company Summary\n\nStarbucks Coffee Company is a global coffeehouse chain known for its specialty coffee drinks, teas, and a variety of food items. The company was founded in 1971 in Seattle, Washington, and has since grown to thousands of locations worldwide.\n\n**Key Offerings:**\n- **Beverages:** A wide range of coffee and espresso drinks, teas, and seasonal offerings.\n- **Food:** Pastries, sandwiches, and snacks that complement their beverages.\n- **Merchandise:** Coffee beans, brewing equipment, and branded merchandise are also available.\n\n**Sustainability Initiatives:**\nStarbucks emphasizes ethical sourcing of coffee, with programs focused on environmental stewardship and community support for coffee farmers.\n\n**Customer Experience:**\nThe company prioritizes creating a welcoming atmosphere in their stores, often featuring comfortable seating and free Wi-Fi. They also have a rewards program that incentivizes customer loyalty through points for purchases.\n\n**Innovations:**\nStarbucks is known for integrating technology into the customer experience, including mobile ordering and payment options, to enhance convenience.\n\nOverall, Starbucks is recognized not only for its products but also for its commitment to social responsibility and creating a distinctive coffee culture."
          },
          "metadata": {}
        }
      ]
    },
    {
      "cell_type": "code",
      "source": [],
      "metadata": {
        "id": "86Ek2sxb7SwR"
      },
      "execution_count": null,
      "outputs": []
    }
  ],
  "metadata": {
    "colab": {
      "provenance": [],
      "toc_visible": true
    },
    "kernelspec": {
      "display_name": "Python 3",
      "name": "python3"
    }
  },
  "nbformat": 4,
  "nbformat_minor": 0
}